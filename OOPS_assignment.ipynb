{
  "nbformat": 4,
  "nbformat_minor": 0,
  "metadata": {
    "colab": {
      "provenance": []
    },
    "kernelspec": {
      "name": "python3",
      "display_name": "Python 3"
    },
    "language_info": {
      "name": "python"
    }
  },
  "cells": [
    {
      "cell_type": "code",
      "execution_count": null,
      "metadata": {
        "id": "4eEKzWZ4iJkV"
      },
      "outputs": [],
      "source": [
        "#Q1. What are the five key concepts of Object-Oriented Programming (OOP)?\n",
        "\n",
        "#Ans. The five key concepts of Object-Oriented Programming (OOP) are:\n",
        "#1. Encapsulation : Encapsulation hides the implementation details and exposes only the necessary information.\n",
        "#2. Abstraction: Abstraction is the practice of exposing only essential features while hiding non-essential details.\n",
        "#3. Inheritance: Inheritance allows one class to inherit properties, methods, and behavior from another class. The child class inherits all the\n",
        "#    attributes and methods of the parent class.\n",
        "#4. Polymorphism: Polymorphism enables objects of different classes to be treated as objects of a common superclass.\n",
        "#    This is achieved through method overriding or method overloading.\n",
        "#5. Composition: Composition involves combining objects or classes to form more complex structures. This concept enables the creation of objects from other objects.\n",
        "\n",
        "\n",
        "\n",
        "\n",
        "#Q2. Write a Python class for a `Car` with attributes for `make`, `model`, and `year`. Include a method to display\n",
        "#   the car's information.\n",
        "#Ans.\n",
        "class Car:\n",
        "  def __init__(self, make, model, year):\n",
        "    self.make = make\n",
        "    self.model = model\n",
        "    self.year = year\n",
        "\n",
        "  def display_info(self):\n",
        "    print(f\"{self.make} {self.model} {self.year}\" )"
      ]
    },
    {
      "cell_type": "code",
      "source": [
        "car1 = Car (\"Honda\", \"Amaze\", 2010)"
      ],
      "metadata": {
        "id": "yWgHTOByxnIF"
      },
      "execution_count": null,
      "outputs": []
    },
    {
      "cell_type": "code",
      "source": [
        "car1.display_info()"
      ],
      "metadata": {
        "colab": {
          "base_uri": "https://localhost:8080/"
        },
        "id": "WEa0tXHV2zbm",
        "outputId": "b8dfcbb2-49e0-4984-f862-1c96fc899253"
      },
      "execution_count": null,
      "outputs": [
        {
          "output_type": "stream",
          "name": "stdout",
          "text": [
            "Honda Amaze 2010\n"
          ]
        }
      ]
    },
    {
      "cell_type": "code",
      "source": [
        "#Q3. Explain the difference between instance methods and class methods. Provide an example of each.\n",
        "#Ans. instance methods and class methods are two types of methods that can be defined within a class.\n",
        "\n",
        "# Instance Methods\n",
        "# Instance methods are bound to an instance of a class. They:\n",
        "\n",
        "# 1. Operate on instance data (attributes).\n",
        "# 2. Are called on an instance of the class.\n",
        "# 3. Have access to the instance's attributes and other instance methods.\n",
        "\n",
        "#Example:\n",
        "class Car:\n",
        "    def __init__(self, make, model):\n",
        "        self.make = make\n",
        "        self.model = model\n",
        "\n",
        "    def display_info(self):\n",
        "        print(f\"{self.make} {self.model}\")\n",
        "\n",
        "\n",
        "my_car = Car(\"Toyota\", \"Camry\")\n",
        "my_car.display_info()\n"
      ],
      "metadata": {
        "colab": {
          "base_uri": "https://localhost:8080/"
        },
        "id": "SobgatZK3kN-",
        "outputId": "8db00b82-7299-45c1-fe4d-16e0a7174339"
      },
      "execution_count": null,
      "outputs": [
        {
          "output_type": "stream",
          "name": "stdout",
          "text": [
            "Toyota Camry\n"
          ]
        }
      ]
    },
    {
      "cell_type": "code",
      "source": [
        "# Class Methods\n",
        "# Class methods are bound to a class rather than an instance. They:\n",
        "\n",
        "# 1. Operate on class data (class attributes).\n",
        "# 2. Are called on the class itself.\n",
        "# 3. Have access to the class's attributes and other class methods.\n",
        "# Example:"
      ],
      "metadata": {
        "id": "pdbJZUdo6UO8"
      },
      "execution_count": null,
      "outputs": []
    },
    {
      "cell_type": "code",
      "source": [
        "class Car:\n",
        "  num_car = 0\n",
        "\n",
        "  def __init__(self, make, model):\n",
        "    self.make = make\n",
        "    self.model = model\n",
        "    Car.num_car +=1\n",
        "\n",
        "  @classmethod\n",
        "  def get_num_car (cls):\n",
        "    return Car.num_car\n"
      ],
      "metadata": {
        "id": "_tkkR2fj6tRg"
      },
      "execution_count": null,
      "outputs": []
    },
    {
      "cell_type": "code",
      "source": [
        "car1 =Car(\"Toyota\", \"Camry\")\n",
        "car2 = (\"Honda\", \"Civic\")\n",
        "print(Car.get_num_car())"
      ],
      "metadata": {
        "colab": {
          "base_uri": "https://localhost:8080/"
        },
        "id": "Vvw5A8Zh8Aa8",
        "outputId": "eb211cf4-7624-45c9-db84-ed0edb5cc00e"
      },
      "execution_count": null,
      "outputs": [
        {
          "output_type": "stream",
          "name": "stdout",
          "text": [
            "2\n"
          ]
        }
      ]
    },
    {
      "cell_type": "code",
      "source": [
        "#Q4.  How does Python implement method overloading? Give an example.\n",
        "#Ans. python doesnot support true method overloading but we can understand like this.\n",
        "#method overloading:\n",
        "\n",
        "class Student:\n",
        "  def student(self):\n",
        "    print (\"Welcome to PW Skills class\")\n",
        "\n",
        "  def student (self, name =\"\"):\n",
        "    print (\"Welcome to PW Skills class\",name)\n",
        "\n",
        "  def student (self , name = \"\", course = \"\"):\n",
        "    print (\"Welcome to PW Skills class\",name, course)\n",
        "\n",
        "stud = Student()\n",
        "stud.student()\n"
      ],
      "metadata": {
        "colab": {
          "base_uri": "https://localhost:8080/"
        },
        "id": "fgfZTS_V8OH0",
        "outputId": "556fb8de-0206-47c5-a2eb-a43a408e0b6d"
      },
      "execution_count": null,
      "outputs": [
        {
          "output_type": "stream",
          "name": "stdout",
          "text": [
            "Welcome to PW Skills class  \n"
          ]
        }
      ]
    },
    {
      "cell_type": "code",
      "source": [
        "stud.student(\"Rahul\", \"data analytics\")"
      ],
      "metadata": {
        "colab": {
          "base_uri": "https://localhost:8080/"
        },
        "id": "7Xd84-Zu-aAW",
        "outputId": "5cac7015-0ec5-4722-b0ba-1047877120be"
      },
      "execution_count": null,
      "outputs": [
        {
          "output_type": "stream",
          "name": "stdout",
          "text": [
            "Welcome to PW Skills class Rahul data analytics\n"
          ]
        }
      ]
    },
    {
      "cell_type": "code",
      "source": [
        "#method overloading -- students method is taking different forms, the last method overload previous.\n",
        "#This is called method overloading\n",
        "#We do not need to write a long code .\n"
      ],
      "metadata": {
        "id": "NHCMfgnR_umH"
      },
      "execution_count": null,
      "outputs": []
    },
    {
      "cell_type": "code",
      "source": [
        "#Q5. What are the three types of access modifiers in Python? How are they denoted?\n",
        "# Python has three types of access modifiers:\n",
        "\n",
        "# 1. Public modifier: No specific notation. Public members are accessible from anywhere.\n",
        "\n",
        "# 2. Private modifier: Denoted by double underscore (__) prefix.\n",
        "\n",
        "# - Intended to be private, but not strictly enforced.\n",
        "# - Python performs name mangling (internally changes name).\n",
        "# - Example: __private_variable.\n",
        "\n",
        "# 3. Protected modifier: Denoted by single underscore (_) prefix.\n",
        "\n",
        "# - Intended to be protected, signaling it's internal implementation.\n",
        "# - Not strictly enforced.\n",
        "# - Example: _protected_variable.\n",
        "\n",
        "\n"
      ],
      "metadata": {
        "id": "Z2c10WbYAadQ"
      },
      "execution_count": null,
      "outputs": []
    },
    {
      "cell_type": "code",
      "source": [
        "#Q6.  Describe the five types of inheritance in Python. Provide a simple example of multiple inheritance.\n",
        "#Ans. Python supports five types of inheritance:\n",
        "\n",
        "# 1. Single Inheritance: A child class inherits from a single parent class.\n",
        "\n",
        "# 2.  *Multiple Inheritance*: A child class inherits from multiple parent classes.\n",
        "\n",
        "# 3. Multilevel Inheritance: A child class inherits from a parent class that itself inherits from another parent class.\n",
        "\n",
        "# 4.  *Hierarchical Inheritance*: Multiple child classes inherit from a single parent class.\n",
        "\n",
        "# 5. Hybrid Inheritance: Combination of multiple inheritance types.\n",
        "\n",
        "# Here's a simple example of multiple inheritance:\n",
        "\n",
        "class Animal:\n",
        "    def eat(self):\n",
        "        print(\"Eating\")\n",
        "\n",
        "class Mammal:\n",
        "    def walk(self):\n",
        "        print(\"Walking\")\n",
        "\n",
        "class Dog (Animal, Mammal):\n",
        "    def bark(self):\n",
        "        print(\"Barking\")\n",
        "\n",
        "dog = Dog()\n",
        "dog.eat()\n",
        "dog.walk()\n",
        "dog.bark()\n",
        "\n",
        "# In this example:\n",
        "# - Dog inherits methods from both Animal and Mammal.\n",
        "# - Dog has access to eat, walk, and its own bark method.\n"
      ],
      "metadata": {
        "colab": {
          "base_uri": "https://localhost:8080/"
        },
        "id": "WLnmLUNUCAAL",
        "outputId": "27b7e75a-ffa9-4cf2-e31b-08af8ddea701"
      },
      "execution_count": null,
      "outputs": [
        {
          "output_type": "stream",
          "name": "stdout",
          "text": [
            "Eating\n",
            "Walking\n",
            "Barking\n"
          ]
        }
      ]
    },
    {
      "cell_type": "code",
      "source": [
        " #Q7. What is the Method Resolution Order (MRO) in Python? How can you retrieve it programmatically?\n",
        " #Ans. The Method Resolution Order (MRO) in Python is the order in which the interpreter searches for methods and attributes in a class's inheritance hierarchy.\n",
        " # It's used to resolve conflicts when multiple classes have methods or attributes with the same name.\n",
        " # Python uses a depth-first left-to-right (DFLR) approach to resolve method calls:\n",
        "\n",
        "# 1. Checks the current class.\n",
        "# 2. Checks the parent classes from left to right.\n",
        "# 3. Checks the parent classes of the parent classes.\n",
        "\n",
        "# To retrieve the MRO programmatically:\n",
        "# *Using the mro() Method*\n",
        "\n",
        "class Animal:\n",
        "  pass\n",
        "class Mammal(Animal):\n",
        "  pass\n",
        "class Dog(Mammal):\n",
        "  pass\n",
        "\n",
        "print(Dog.mro())\n"
      ],
      "metadata": {
        "id": "Ic_NE5SGDxuq",
        "colab": {
          "base_uri": "https://localhost:8080/"
        },
        "outputId": "68a98143-de5d-466e-c89f-a78b4c8ebbc4"
      },
      "execution_count": null,
      "outputs": [
        {
          "output_type": "stream",
          "name": "stdout",
          "text": [
            "[<class '__main__.Dog'>, <class '__main__.Mammal'>, <class '__main__.Animal'>, <class 'object'>]\n"
          ]
        }
      ]
    },
    {
      "cell_type": "code",
      "source": [
        "# The mro() method returns a list of classes in the order they're searched.\n",
        "# Understanding the MRO is crucial for:\n",
        "# - Resolving method conflicts\n",
        "# - Understanding inheritance\n",
        "# - Debugging complex class hierarchies"
      ],
      "metadata": {
        "id": "1R8_h4siJTA1"
      },
      "execution_count": null,
      "outputs": []
    },
    {
      "cell_type": "code",
      "source": [
        " #Q8. Create an abstract base class `Shape` with an abstract method `area()`. Then create two subclasses\n",
        "#    `Circle` and `Rectangle` that implement the `area()` method.\n",
        "\n",
        "import abc\n",
        "\n",
        "class Shape :\n",
        "  @abc.abstractmethod\n",
        "  def area(self):\n",
        "    pass\n",
        "\n",
        "#subclass of Shape\n",
        "class Circle(Shape):\n",
        "  def __init__(self, radius):\n",
        "    self.radius = radius\n",
        "\n",
        "  def area(self):\n",
        "    radius= self.radius\n",
        "    return 3.14*radius**2\n",
        "\n",
        "\n",
        "obj = Circle (5)\n",
        "obj.area()\n"
      ],
      "metadata": {
        "colab": {
          "base_uri": "https://localhost:8080/"
        },
        "id": "3hH30-6gKDoJ",
        "outputId": "95889e40-5d97-4a98-f35a-7af317d89c88"
      },
      "execution_count": null,
      "outputs": [
        {
          "output_type": "execute_result",
          "data": {
            "text/plain": [
              "78.5"
            ]
          },
          "metadata": {},
          "execution_count": 5
        }
      ]
    },
    {
      "cell_type": "code",
      "source": [
        "#subclass of Shape\n",
        "class Rectangle(Shape):\n",
        "  def __init__(self, width, height):\n",
        "    self.width = width\n",
        "    self.height = height\n",
        "\n",
        "  def area (self):\n",
        "    width = self.width\n",
        "    height = self.height\n",
        "    return width*height\n",
        "\n",
        "obj2 = Rectangle(5,10)\n",
        "obj2.area()"
      ],
      "metadata": {
        "colab": {
          "base_uri": "https://localhost:8080/"
        },
        "id": "AbLTT9FvM_7c",
        "outputId": "e6b4d0a6-cefd-470a-b77e-543b322712ff"
      },
      "execution_count": null,
      "outputs": [
        {
          "output_type": "execute_result",
          "data": {
            "text/plain": [
              "50"
            ]
          },
          "metadata": {},
          "execution_count": 6
        }
      ]
    },
    {
      "cell_type": "code",
      "source": [
        "#Q9. Demonstrate polymorphism by creating a function that can work with different shape objects to calculate\n",
        "#    and print their areas.\n",
        "#Ans.\n",
        "import abc\n",
        "\n",
        "class Shape :\n",
        "  @abc.abstractmethod\n",
        "  def area(self):\n",
        "    pass\n",
        "\n",
        "#subclass of Shape\n",
        "class Circle(Shape):\n",
        "  def __init__(self, radius):\n",
        "    self.radius = radius\n",
        "\n",
        "  def area(self):\n",
        "    radius= self.radius\n",
        "    return 3.14*radius**2\n",
        "\n",
        "\n",
        "#subclass of Shape\n",
        "class Rectangle(Shape):\n",
        "  def __init__(self, width, height):\n",
        "    self.width = width\n",
        "    self.height = height\n",
        "\n",
        "  def area (self):\n",
        "    width = self.width\n",
        "    height = self.height\n",
        "    return width*height\n",
        "\n",
        "\n",
        "# Subclass Triangle\n",
        "class Triangle(Shape):\n",
        "    def __init__(self, base, height):\n",
        "        self.base = base\n",
        "        self.height = height\n",
        "\n",
        "    def area(self):\n",
        "        return 0.5 * self.base * self.height\n",
        "\n",
        "\n",
        "# Polymorphic function\n",
        "def calculate_and_print_area(shape: Shape):\n",
        "    print(f\"Area of {type(shape).__name__}: {shape.area():}\")\n",
        "\n",
        "circle = Circle(5)\n",
        "rectangle = Rectangle(4, 6)\n",
        "triangle = Triangle(3, 7)\n",
        "\n",
        "shapes = [circle, rectangle, triangle]\n",
        "\n",
        "for shape in shapes:\n",
        "    calculate_and_print_area(shape)\n",
        "\n",
        "\n"
      ],
      "metadata": {
        "colab": {
          "base_uri": "https://localhost:8080/"
        },
        "id": "ksgrdE2TOhWK",
        "outputId": "b7f67e87-0a10-43bc-cc71-32528f8afa95"
      },
      "execution_count": 32,
      "outputs": [
        {
          "output_type": "stream",
          "name": "stdout",
          "text": [
            "Area of Circle: 78.5\n",
            "Area of Rectangle: 24\n",
            "Area of Triangle: 10.5\n"
          ]
        }
      ]
    },
    {
      "cell_type": "code",
      "source": [],
      "metadata": {
        "id": "TgL_8QU_S4zp"
      },
      "execution_count": 32,
      "outputs": []
    },
    {
      "cell_type": "code",
      "source": [
        "#Q10. Implement encapsulation in a `BankAccount` class with private attributes for `balance` and\n",
        "#   `account_number`. Include methods for deposit, withdrawal, and balance inquiry\n",
        "\n",
        "#Ans.\n",
        "class Bank:\n",
        "  def __init__(self, balance, acc_no):\n",
        "    self.__balance = balance\n",
        "    self.__acc_no = acc_no\n",
        "\n",
        "  def deposit(self,amount):\n",
        "    self.__banace = self.__balance+amount\n",
        "    self.amount= amount\n",
        "    amount = self.amount\n",
        "\n",
        "  def withdraw(self, amount):\n",
        "    if self.__balance>= amount:\n",
        "      self.__balance = self.__balance-amount\n",
        "\n",
        "      return True\n",
        "    else:\n",
        "      return False\n",
        "\n",
        "  def get_balance(self):\n",
        "    return self.__balance\n",
        "\n",
        "\n",
        "  def bal_inq(self,acc_no):\n",
        "    return acc_no\n",
        "\n",
        "\n",
        "acc1 = Bank(1000, 123456)\n",
        "acc1.get_balance()\n"
      ],
      "metadata": {
        "colab": {
          "base_uri": "https://localhost:8080/"
        },
        "id": "GDcBCovYTD_O",
        "outputId": "81418736-fe67-4eaa-8608-e5db1cfee411"
      },
      "execution_count": 28,
      "outputs": [
        {
          "output_type": "execute_result",
          "data": {
            "text/plain": [
              "1000"
            ]
          },
          "metadata": {},
          "execution_count": 28
        }
      ]
    },
    {
      "cell_type": "code",
      "source": [
        "acc1.bal_inq(123456)"
      ],
      "metadata": {
        "colab": {
          "base_uri": "https://localhost:8080/"
        },
        "id": "YQqzwsqicQ-x",
        "outputId": "a45b7bb4-d376-4af6-b8e7-a8a03ce30acc"
      },
      "execution_count": 29,
      "outputs": [
        {
          "output_type": "execute_result",
          "data": {
            "text/plain": [
              "123456"
            ]
          },
          "metadata": {},
          "execution_count": 29
        }
      ]
    },
    {
      "cell_type": "code",
      "source": [
        "acc1.deposit(2000)"
      ],
      "metadata": {
        "id": "uv1xj4R9cwwS"
      },
      "execution_count": 30,
      "outputs": []
    },
    {
      "cell_type": "code",
      "source": [
        "acc1.get_balance()"
      ],
      "metadata": {
        "colab": {
          "base_uri": "https://localhost:8080/"
        },
        "id": "zejVJ3Pfc-16",
        "outputId": "102682da-5202-4ad1-ef02-8805f02fd1a0"
      },
      "execution_count": 31,
      "outputs": [
        {
          "output_type": "execute_result",
          "data": {
            "text/plain": [
              "1000"
            ]
          },
          "metadata": {},
          "execution_count": 31
        }
      ]
    },
    {
      "cell_type": "code",
      "source": [
        " #Q11.  Write a class that overrides the `__str__` and `__add__` magic methods. What will these methods allow\n",
        "#   you to do?\n",
        "\n",
        "#Ans.\n",
        "class Vector:\n",
        "  def __init__(self, x,y):\n",
        "    self.x=x\n",
        "    self.y=y\n",
        "\n",
        "  def __str__(self):\n",
        "    return f\"Vector ({self.x}, {self.y})\"\n",
        "\n",
        "\n",
        "  def __add__(self,other):\n",
        "    if isinstance(other,Vector):\n",
        "      return Vector(self.x+ other.x,self.y+other.y)\n",
        "    else:\n",
        "      raise TypeError(\"Unsupported operand type for +\")\n",
        "\n",
        "v1=Vector(2,3)\n",
        "v2=Vector(4,5)\n"
      ],
      "metadata": {
        "id": "k66oOtjfdOnb"
      },
      "execution_count": 1,
      "outputs": []
    },
    {
      "cell_type": "code",
      "source": [
        "print(v1)"
      ],
      "metadata": {
        "colab": {
          "base_uri": "https://localhost:8080/"
        },
        "id": "q9HgPviKeGBU",
        "outputId": "65ff1d5b-8af9-4c8c-c3b2-b528f1ac62d5"
      },
      "execution_count": 4,
      "outputs": [
        {
          "output_type": "stream",
          "name": "stdout",
          "text": [
            "Vector (2, 3)\n"
          ]
        }
      ]
    },
    {
      "cell_type": "code",
      "source": [
        "print (v1+v2)"
      ],
      "metadata": {
        "colab": {
          "base_uri": "https://localhost:8080/"
        },
        "id": "aSglzed4eW9E",
        "outputId": "bd131975-6607-4bc7-b50b-0fdd6ced9885"
      },
      "execution_count": 5,
      "outputs": [
        {
          "output_type": "stream",
          "name": "stdout",
          "text": [
            "Vector (6, 8)\n"
          ]
        }
      ]
    },
    {
      "cell_type": "code",
      "source": [
        "# Overriding these magic methods enables:\n",
        "\n",
        "# *__str__*:\n",
        "\n",
        "# - Returns a string representation of the object.\n",
        "# - Allows for pretty-printing the object.\n",
        "# - Used when calling print() or str() on the object.\n",
        "\n",
        "# *__add__*:\n",
        "\n",
        "# - Defines the behavior for the + operator.\n",
        "# - Enables adding two Vector objects element-wise.\n",
        "# - Throws a TypeError if attempting to add incompatible types.\n",
        "\n",
        "# By overriding these magic methods, you can:\n",
        "\n",
        "# - Create more intuitive and readable code.\n",
        "# - Define custom behavior for operators.\n",
        "# - Enhance the usability of your classes.\n"
      ],
      "metadata": {
        "id": "JMMLSDWyet5E"
      },
      "execution_count": 6,
      "outputs": []
    },
    {
      "cell_type": "code",
      "source": [
        "#Q12.. Create a decorator that measures and prints the execution time of a function.\n",
        "\n",
        "#Ans. run time of a code\n",
        "import time\n",
        "def timer_decorator(func):\n",
        "  def timer():\n",
        "    start = time.time()\n",
        "    func()\n",
        "    end = time.time()\n",
        "    print(\"The time for executing the code is\",end-start)\n",
        "  return timer\n",
        "\n",
        "@timer_decorator\n",
        "def func_test():\n",
        "  print(11*1000)\n"
      ],
      "metadata": {
        "id": "mylIrLRDfVj1"
      },
      "execution_count": 11,
      "outputs": []
    },
    {
      "cell_type": "code",
      "source": [
        "func_test()"
      ],
      "metadata": {
        "colab": {
          "base_uri": "https://localhost:8080/"
        },
        "id": "9ZUwcP-zjkcO",
        "outputId": "80f2dffb-0e23-471f-a90a-55aec36c0a58"
      },
      "execution_count": 12,
      "outputs": [
        {
          "output_type": "stream",
          "name": "stdout",
          "text": [
            "11000\n",
            "The time for executing the code is 0.0005192756652832031\n"
          ]
        }
      ]
    },
    {
      "cell_type": "code",
      "source": [
        "#Q13. Explain the concept of the Diamond Problem in multiple inheritance. How does Python resolve it?\n",
        "\n",
        "#  The Diamond Problem arises in multiple inheritance scenarios where:\n",
        "# - A class inherits from two or more classes.\n",
        "# - Those classes share a common base class.\n",
        "\n",
        "#Example:\n",
        "class A:\n",
        "  def method(self):\n",
        "    print(\"A's method\")\n",
        "\n",
        "class B(A):\n",
        "  def method(self):\n",
        "    print(\"B's method\")\n",
        "\n",
        "class C(A):\n",
        "  def method(self):\n",
        "    print(\"C's method\")\n",
        "\n",
        "class D(B, C):\n",
        "  pass\n",
        "\n",
        "d = D()\n",
        "d.method()  # Which method should be called?\n",
        "\n",
        "# Python's Solution:\n",
        "# Python resolves the Diamond Problem using:\n",
        "\n",
        "# 1. Method Resolution Order (MRO)\n",
        "# MRO:\n",
        "# Python's MRO is depth-first left-to-right:\n",
        "# 1. D\n",
        "# 2. B\n",
        "# 3. C\n",
        "# 4. A\n",
        "# 5. object\n",
        "\n",
        "# In the example:\n",
        "# - D's MRO: [D, B, C, A, object]\n",
        "# - D.method() calls B's method, as it's first in the MRO.\n",
        "\n",
        "# Python's approach:\n",
        "# - Avoids ambiguity\n",
        "# - Preserves local precedence\n",
        "# - Ensures consistent behavior\n"
      ],
      "metadata": {
        "colab": {
          "base_uri": "https://localhost:8080/"
        },
        "id": "9Wp42quUkHR8",
        "outputId": "271029ef-f221-4a05-fa5f-12eb8652dfd7"
      },
      "execution_count": 14,
      "outputs": [
        {
          "output_type": "stream",
          "name": "stdout",
          "text": [
            "B's method\n"
          ]
        }
      ]
    },
    {
      "cell_type": "code",
      "source": [
        "#Q14. Write a class method that keeps track of the number of instances created from a class.\n",
        "#Ans.\n",
        "class Student:\n",
        "  total_student = 0\n",
        "  def __init__(self,name):\n",
        "    self.name = name\n",
        "    Student.total_student= Student.total_student+1\n",
        "\n",
        "  @classmethod\n",
        "  def get_total_student(cls):\n",
        "    return cls.total_student\n"
      ],
      "metadata": {
        "id": "FlhOCdnNpM8m"
      },
      "execution_count": 20,
      "outputs": []
    },
    {
      "cell_type": "code",
      "source": [
        "Student.total_student"
      ],
      "metadata": {
        "colab": {
          "base_uri": "https://localhost:8080/"
        },
        "id": "ZC8VtZtkrAav",
        "outputId": "b58768fb-0353-47c4-fafc-34ff44c39834"
      },
      "execution_count": 21,
      "outputs": [
        {
          "output_type": "execute_result",
          "data": {
            "text/plain": [
              "0"
            ]
          },
          "metadata": {},
          "execution_count": 21
        }
      ]
    },
    {
      "cell_type": "code",
      "source": [
        "std1= Student(\"Rahul\")\n",
        "std2 = Student(\"Mohan\")\n",
        "Student.total_student"
      ],
      "metadata": {
        "colab": {
          "base_uri": "https://localhost:8080/"
        },
        "id": "W6w7biL5smuE",
        "outputId": "c6f2df2e-a005-4c72-bfcd-2a881018fcee"
      },
      "execution_count": 22,
      "outputs": [
        {
          "output_type": "execute_result",
          "data": {
            "text/plain": [
              "2"
            ]
          },
          "metadata": {},
          "execution_count": 22
        }
      ]
    },
    {
      "cell_type": "code",
      "source": [
        "# class method can modify class state applicable to all the instances of the class\n",
        "#that's why you can see increase in the count.\n"
      ],
      "metadata": {
        "id": "4usO2UdOs4Kw"
      },
      "execution_count": 23,
      "outputs": []
    },
    {
      "cell_type": "code",
      "source": [
        "#Q15. Implement a static method in a class that checks if a given year is a leap year.\n",
        "#Ans.\n",
        "class Leap_year:\n",
        "  @staticmethod\n",
        "  def is_leap_year(year):\n",
        "    return year % 4 ==0 and (year % 100 !=0 or year % 400== 0)"
      ],
      "metadata": {
        "id": "mxHm039AtTHe"
      },
      "execution_count": 24,
      "outputs": []
    },
    {
      "cell_type": "code",
      "source": [
        "print (Leap_year.is_leap_year(2020))"
      ],
      "metadata": {
        "colab": {
          "base_uri": "https://localhost:8080/"
        },
        "id": "S7IjoFSSuyCZ",
        "outputId": "38a8eaca-24c1-477f-fe14-2c642cdfb5ac"
      },
      "execution_count": 25,
      "outputs": [
        {
          "output_type": "stream",
          "name": "stdout",
          "text": [
            "True\n"
          ]
        }
      ]
    },
    {
      "cell_type": "code",
      "source": [
        "print (Leap_year.is_leap_year(2025))"
      ],
      "metadata": {
        "colab": {
          "base_uri": "https://localhost:8080/"
        },
        "id": "4dzEjkQbu_ep",
        "outputId": "62f298f1-0d4d-4f09-ee7b-cfc08e60ffd8"
      },
      "execution_count": 26,
      "outputs": [
        {
          "output_type": "stream",
          "name": "stdout",
          "text": [
            "False\n"
          ]
        }
      ]
    },
    {
      "cell_type": "code",
      "source": [],
      "metadata": {
        "id": "c6Ic1p75vFLl"
      },
      "execution_count": null,
      "outputs": []
    }
  ]
}