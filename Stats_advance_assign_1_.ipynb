{
  "nbformat": 4,
  "nbformat_minor": 0,
  "metadata": {
    "colab": {
      "provenance": []
    },
    "kernelspec": {
      "name": "python3",
      "display_name": "Python 3"
    },
    "language_info": {
      "name": "python"
    }
  },
  "cells": [
    {
      "cell_type": "code",
      "execution_count": null,
      "metadata": {
        "id": "HG-LY7WGW1T2"
      },
      "outputs": [],
      "source": [
        " #Q1. Explain the properties of the F-distribution.\n",
        "\n",
        "#  Ans. 1. Non-Negativity: F-distribution values are always non-negative (≥ 0).\n",
        "\n",
        "#       2. Right-Skewed: The distribution is skewed to the right, with a long tail.\n",
        "\n",
        "#       3. Two Parameters: The F-distribution has two parameters:\n",
        "#          - Degrees of Freedom 1 (df1): Associated with the numerator.\n",
        "#          - Degrees of Freedom 2 (df2): Associated with the denominator.\n",
        "\n",
        "#       4. Asymptotic Behavior: As df1 and df2 increase, the F-distribution approaches the normal distribution.\n"
      ]
    },
    {
      "cell_type": "code",
      "source": [
        "#Q2. In which types of statistical tests is the F-distribution used, and why is it appropriate for these tests?\n",
        "\n",
        "#Ans. The F-distribution is used in various statistical tests, primarily for hypothesis testing and confidence intervals. Here are some key tests where the F-distribution is applied:\n",
        "\n",
        "# 1. Analysis of Variance (ANOVA)\n",
        "\n",
        "#      - Purpose: Compare means of three or more groups.\n",
        "#      - Why F-distribution: ANOVA calculates the F-statistic by dividing the variance between groups (MSB) by the variance within groups (MSW). The F-distribution helps determine the\n",
        "#            significance of the difference between groups.\n",
        "\n",
        "# 2. Regression Analysis\n",
        "\n",
        "#       - Purpose: Test significance of regression coefficients or overall model fit.\n",
        "#       - Why F-distribution: The F-statistic measures the ratio of explained variance to unexplained variance. The F-distribution helps determine whether the regression model is\n",
        "#            significant.\n",
        "\n",
        "# 3. t-Tests\n",
        "\n",
        "#       - Purpose: Compare means between two groups.\n",
        "#       - Why F-distribution: When comparing variances, the t-test statistic can be squared and converted to an F-statistic, allowing for the use of the F-distribution.\n",
        "\n",
        "# 4. Variance Ratio Tests\n",
        "\n",
        "#       - Purpose: Compare variances between two groups.\n",
        "#       - Why F-distribution: The F-statistic directly compares the variances, and the F-distribution provides the critical values.\n",
        "\n",
        "\n",
        "# The F-distribution plays a crucial role in statistical hypothesis testing, providing a powerful tool for analyzing complex data and making informed decisions.\n"
      ],
      "metadata": {
        "id": "aAwHZ1fAa-bM"
      },
      "execution_count": null,
      "outputs": []
    },
    {
      "cell_type": "code",
      "source": [
        "#Q3. What are the key assumptions required for conducting an F-test to compare the variances of two populations?\n",
        "\n",
        "#Ans.To conduct an F-test for comparing variances of two populations, the following key assumptions must be met:\n",
        "\n",
        "# 1. Independence: Observations from both populations are independent.\n",
        "\n",
        "# 2. Normality: Data from both populations follow a normal distribution.\n",
        "\n",
        "# 3. Homogenity: Variances are equal across both populations (tested by F-test).\n",
        "\n",
        "# 4. Random Sampling: Samples from both populations are randomly selected.\n",
        "\n",
        "# 5. No Outliers: No significant outliers in either dataset.\n",
        "\n"
      ],
      "metadata": {
        "id": "RGNE8duyfH24"
      },
      "execution_count": null,
      "outputs": []
    },
    {
      "cell_type": "code",
      "source": [
        "#Q4. What is the purpose of ANOVA, and how does it differ from a t-test?\n",
        "\n",
        "#Ans. Purpose of ANOVA:\n",
        "\n",
        "# Analysis of Variance (ANOVA) is a statistical technique used to:\n",
        "\n",
        "# 1. Compare means of three or more groups.\n",
        "# 2. Determine if there are significant differences between groups.\n",
        "# 3. Analyze the relationship between a continuous outcome variable and one or more categorical predictor variables.\n",
        "\n",
        "# Comparison with t-test:\n",
        "\n",
        "# t-test:\n",
        "\n",
        "# 1. Compares means of two groups.\n",
        "# 2. Used for pairwise comparisons.\n",
        "# 3. Assumes equal variances.\n",
        "\n",
        "# ANOVA:\n",
        "\n",
        "# 1. Compares means of three or more groups.\n",
        "# 2. Used for multiple comparisons.\n",
        "# 3. Does not require pairwise comparisons.\n"
      ],
      "metadata": {
        "id": "34cTzmw6gzHH"
      },
      "execution_count": null,
      "outputs": []
    },
    {
      "cell_type": "code",
      "source": [
        "#Q5. Explain when and why you would use a one-way ANOVA instead of multiple t-tests when comparing more\n",
        "#     than two groups.\n",
        "\n",
        "#Ans. When to use One-way ANOVA:\n",
        "\n",
        "# Use one-way ANOVA when:\n",
        "\n",
        "# 1. Comparing means of 3+ groups.\n",
        "# 2. Groups are independent (no pairing or matching).\n",
        "# 3. Continuous outcome variable.\n",
        "# 4. Categorical predictor variable (grouping variable).\n",
        "\n",
        "# Why prefer ANOVA over multiple t-tests:\n",
        "\n",
        "# Advantages of ANOVA:\n",
        "\n",
        "# 1. Controls Type I error inflation: Multiple t-tests increase false positives.\n",
        "# 2. Increased statistical power: ANOVA detects differences more efficiently.\n",
        "# 3. Simpler interpretation: Single test statistic (F-statistic) and p-value.\n",
        "# 4. Reduced number of comparisons: No need for pairwise t-tests.\n",
        "\n",
        "# Disadvantages of multiple t-tests:\n",
        "\n",
        "# 1. Inflated Type I error rate: Increased risk of false positives.\n",
        "# 2. Decreased statistical power: Less efficient than ANOVA.\n",
        "# 3. Complex interpretation: Multiple test statistics and p-values.\n",
        "\n"
      ],
      "metadata": {
        "id": "N1E_Ixu2h_sF"
      },
      "execution_count": null,
      "outputs": []
    },
    {
      "cell_type": "code",
      "source": [
        "#Q6. Explain how variance is partitioned in ANOVA into between-group variance and within-group variance.\n",
        "#   How does this partitioning contribute to the calculation of the F-statistic?\n",
        "\n",
        "#Ans. Variance Partitioning in ANOVA:\n",
        "\n",
        "# In ANOVA, variance is partitioned into two components:\n",
        "\n",
        "# 1. Between-Group Variance (SSB):\n",
        "\n",
        "# - Measures the variation between group means.\n",
        "# - Reflects the differences between groups.\n",
        "\n",
        "# 2. Within-Group Variance (SSW):\n",
        "\n",
        "# - Measures the variation within each group.\n",
        "# - Reflects the randomness or error within groups.\n",
        "\n",
        "# Partitioning Formula:\n",
        "\n",
        "# Total Sum of Squares (SST) = Sum of Squares Between (SSB) + Sum of Squares Within (SSW)\n",
        "# Calculating SSB and SSW:\n",
        "\n",
        "# 1. Calculate the mean for each group (x̄_1, x̄_2, ..., x̄_k).\n",
        "# 2. Calculate the overall mean (x̄).\n",
        "# 3. Calculate SSB: Σn_i(x̄_i - x̄)², where n_i is the sample size for group i.\n",
        "# 4. Calculate SSW: ΣΣ(x_ij - x̄_i)², where x_ij is the jth observation in group i.\n",
        "\n",
        "# F-Statistic Calculation:\n",
        "\n",
        "# The F-statistic is calculated using the Mean Squares (MS) for between-group and within-group variance:\n",
        "\n",
        "# F = MSB / MSW\n",
        "\n",
        "# where:\n",
        "\n",
        "# - MSB = SSB / (k - 1), degrees of freedom between groups.\n",
        "# - MSW = SSW / (N - k), degrees of freedom within groups.\n",
        "# - k = number of groups.\n",
        "# - N = total sample size.\n",
        "\n",
        "# The F-statistic measures the ratio of between-group variance to within-group variance. A large F-statistic indicates:\n",
        "\n",
        "# - More variation between groups compared to within groups.\n",
        "# - Significant differences between group means.\n",
        "\n"
      ],
      "metadata": {
        "id": "EqXQzjHAvspo"
      },
      "execution_count": null,
      "outputs": []
    },
    {
      "cell_type": "code",
      "source": [
        "#Q7. Compare the classical (frequentist) approach to ANOVA with the Bayesian approach. What are the key\n",
        "#     differences in terms of how they handle uncertainty, parameter estimation, and hypothesis testing?\n",
        "\n",
        "#Ans.Classical (Frequentist) Approach to ANOVA:\n",
        "\n",
        "# 1. Focuses on testing null hypotheses.\n",
        "# 2. Uses p-values to determine significance.\n",
        "# 3. Assumes fixed population parameters.\n",
        "# 4. Estimates parameters using maximum likelihood.\n",
        "# 5. Uses confidence intervals for parameter estimation.\n",
        "\n",
        "# Bayesian Approach to ANOVA:\n",
        "\n",
        "# 1. Focuses on updating probabilities based on data.\n",
        "# 2. Uses Bayes' theorem to combine prior knowledge with data.\n",
        "# 3. Treats population parameters as random variables.\n",
        "# 4. Estimates parameters using posterior distributions.\n",
        "# 5. Uses credible intervals for parameter estimation.\n",
        "\n",
        "# Key Differences:\n",
        "\n",
        "# Uncertainty Handling:\n",
        "\n",
        "# - Frequentist: p-values and confidence intervals reflect uncertainty in parameter estimates.\n",
        "# - Bayesian: posterior distributions and credible intervals reflect uncertainty in parameter estimates.\n",
        "# Parameter Estimation:\n",
        "\n",
        "# - Frequentist: maximum likelihood estimation.\n",
        "# - Bayesian: posterior mean, median, or mode.\n",
        "\n",
        "# Hypothesis Testing:\n",
        "\n",
        "# - Frequentist: reject/null hypothesis testing.\n",
        "# - Bayesian: compare posterior probabilities of competing models.\n",
        "\n"
      ],
      "metadata": {
        "id": "tpmn4EDtxsmP"
      },
      "execution_count": null,
      "outputs": []
    },
    {
      "cell_type": "code",
      "source": [
        "#Q8. Question: You have two sets of data representing the incomes of two different professions.\n",
        "#   Profession A: [48, 52, 55, 60, 62]\n",
        "#   Profession B: [45, 50, 55, 52, 47] Perform an F-test to determine if the variances of the two professions'\n",
        "#      incomes are equal. What are your conclusions based on the F-test?\n",
        "# Task: Use Python to calculate the F-statistic and p-value for the given data.\n",
        "\n",
        "# Objective: Gain experience in performing F-tests and interpreting the results in terms of variance comparison.\n",
        "\n",
        "#Ans.\n",
        "import pandas as pd\n",
        "import numpy as np\n",
        "import seaborn as sns\n",
        "\n",
        "import warnings\n",
        "warnings.filterwarnings('ignore')\n",
        "\n",
        "ProfessionA = [48, 52, 55, 60, 62]\n",
        "ProfessionB= [45, 50, 55, 52, 47]\n",
        "fstats= np.var(ProfessionA)/ np.var(ProfessionB)\n",
        "fstats\n",
        "\n"
      ],
      "metadata": {
        "colab": {
          "base_uri": "https://localhost:8080/"
        },
        "id": "ptrbsfuecMWw",
        "outputId": "a113af55-b0d2-4a58-f3bb-29f4ba165475"
      },
      "execution_count": null,
      "outputs": [
        {
          "output_type": "execute_result",
          "data": {
            "text/plain": [
              "2.089171974522293"
            ]
          },
          "metadata": {},
          "execution_count": 3
        }
      ]
    },
    {
      "cell_type": "code",
      "source": [
        "df1= len(ProfessionA)-1\n",
        "df2= len(ProfessionB)-1\n",
        "df1"
      ],
      "metadata": {
        "colab": {
          "base_uri": "https://localhost:8080/"
        },
        "id": "Q4QdEhaxdJbo",
        "outputId": "533df70b-2413-427a-9159-6f0692230765"
      },
      "execution_count": null,
      "outputs": [
        {
          "output_type": "execute_result",
          "data": {
            "text/plain": [
              "4"
            ]
          },
          "metadata": {},
          "execution_count": 4
        }
      ]
    },
    {
      "cell_type": "code",
      "source": [
        "df2"
      ],
      "metadata": {
        "colab": {
          "base_uri": "https://localhost:8080/"
        },
        "id": "2jOMnAd8elNC",
        "outputId": "34db4209-0384-4669-f3eb-43e0c40da8d2"
      },
      "execution_count": null,
      "outputs": [
        {
          "output_type": "execute_result",
          "data": {
            "text/plain": [
              "4"
            ]
          },
          "metadata": {},
          "execution_count": 5
        }
      ]
    },
    {
      "cell_type": "code",
      "source": [
        "alpha= 0.05\n",
        "import scipy.stats as stats\n",
        "critical_value= stats.f.ppf(q= 1-alpha, dfn=df1, dfd=df2)"
      ],
      "metadata": {
        "id": "SInMFT30emYr"
      },
      "execution_count": null,
      "outputs": []
    },
    {
      "cell_type": "code",
      "source": [
        "critical_value"
      ],
      "metadata": {
        "colab": {
          "base_uri": "https://localhost:8080/"
        },
        "id": "WtI7riiygRq7",
        "outputId": "03bea6af-2232-482f-a40b-edfa96355201"
      },
      "execution_count": null,
      "outputs": [
        {
          "output_type": "execute_result",
          "data": {
            "text/plain": [
              "6.388232908695868"
            ]
          },
          "metadata": {},
          "execution_count": 10
        }
      ]
    },
    {
      "cell_type": "code",
      "source": [
        "if fstats>critical_value:\n",
        "  print (\"Reject the null hypothesis\")\n",
        "else:\n",
        "  print (\"Fail to reject the null hypothesis\")"
      ],
      "metadata": {
        "colab": {
          "base_uri": "https://localhost:8080/"
        },
        "id": "7XpFla0XfJd1",
        "outputId": "4c3d3f3a-f881-460c-9a05-c08b54f508df"
      },
      "execution_count": null,
      "outputs": [
        {
          "output_type": "stream",
          "name": "stdout",
          "text": [
            "Fail to reject the null hypothesis\n"
          ]
        }
      ]
    },
    {
      "cell_type": "code",
      "source": [
        "#It means the variances of the two professions'income are equal.\n",
        "\n",
        "from scipy.stats import f\n",
        "# Calculate p-value using F-distribution\n",
        "p_value = 2 * (1 - f.cdf(fstats, df1, df2))\n"
      ],
      "metadata": {
        "id": "qpfvw19NgOW0"
      },
      "execution_count": null,
      "outputs": []
    },
    {
      "cell_type": "code",
      "source": [
        "p_value"
      ],
      "metadata": {
        "colab": {
          "base_uri": "https://localhost:8080/"
        },
        "id": "91IbIq0eii9M",
        "outputId": "56fae069-b490-48c8-e554-9b0791f85276"
      },
      "execution_count": null,
      "outputs": [
        {
          "output_type": "execute_result",
          "data": {
            "text/plain": [
              "0.49304859900533904"
            ]
          },
          "metadata": {},
          "execution_count": 13
        }
      ]
    },
    {
      "cell_type": "code",
      "source": [
        "if p_value<alpha:\n",
        "  print (\"Reject the null hypothesis\")\n",
        "else:\n",
        "  print (\"Fail to reject the null hypothesis\")\n",
        "\n",
        "\n",
        "\n"
      ],
      "metadata": {
        "colab": {
          "base_uri": "https://localhost:8080/"
        },
        "id": "LyBN9qAhi-qR",
        "outputId": "ee6e59a3-34fd-4869-e9ff-5f34f33560ac"
      },
      "execution_count": null,
      "outputs": [
        {
          "output_type": "stream",
          "name": "stdout",
          "text": [
            "Fail to reject the null hypothesis\n"
          ]
        }
      ]
    },
    {
      "cell_type": "code",
      "source": [
        "#It means the variances of the two professions'income are equal."
      ],
      "metadata": {
        "id": "l4oiC55Njo0Z"
      },
      "execution_count": null,
      "outputs": []
    },
    {
      "cell_type": "code",
      "source": [
        "#Q9. Question: Conduct a one-way ANOVA to test whether there are any statistically significant differences in\n",
        "# average heights between three different regions with the following data.\n",
        "RegionA= (160, 162, 165, 158, 164)\n",
        "RegionB= (172, 175, 170, 168, 174)\n",
        "RegionC= (180, 182, 179, 185, 183)\n",
        " #  Task: Write Python code to perform the one-way ANOVA and interpret the results.\n",
        "#  Objective: Learn how to perform one-way ANOVA using Python and interpret F-statistic and p-value.\n",
        "import numpy as np\n",
        "from scipy.stats import f_oneway\n",
        "import pandas as pd\n",
        "\n",
        "RegA = np.array(RegionA)\n",
        "RegB = np.array(RegionB)\n",
        "RegC= np.array(RegionC)\n",
        "\n",
        "\n",
        "\n",
        "fstats, p_value =stats.f_oneway(RegA, RegB, RegC)"
      ],
      "metadata": {
        "id": "eU4wzGPokdFk"
      },
      "execution_count": null,
      "outputs": []
    },
    {
      "cell_type": "code",
      "source": [
        "fstats"
      ],
      "metadata": {
        "colab": {
          "base_uri": "https://localhost:8080/"
        },
        "id": "SNlMmfsQl8s7",
        "outputId": "458c00cd-8458-43fc-ba13-87b85588572c"
      },
      "execution_count": null,
      "outputs": [
        {
          "output_type": "execute_result",
          "data": {
            "text/plain": [
              "67.87330316742101"
            ]
          },
          "metadata": {},
          "execution_count": 27
        }
      ]
    },
    {
      "cell_type": "code",
      "source": [
        "p_value"
      ],
      "metadata": {
        "colab": {
          "base_uri": "https://localhost:8080/"
        },
        "id": "dgbXh8b7oMw6",
        "outputId": "2ef18a43-d9e5-4699-ab93-8675049fea18"
      },
      "execution_count": null,
      "outputs": [
        {
          "output_type": "execute_result",
          "data": {
            "text/plain": [
              "2.870664187937026e-07"
            ]
          },
          "metadata": {},
          "execution_count": 28
        }
      ]
    },
    {
      "cell_type": "code",
      "source": [
        "alpha= 0.05\n",
        "df1= 2\n",
        "df2= 12\n",
        "import scipy.stats as stats\n",
        "critical_value= stats.f.ppf(q= 1-alpha, dfn=df1, dfd=df2)"
      ],
      "metadata": {
        "id": "q6WkQFS3opDY"
      },
      "execution_count": null,
      "outputs": []
    },
    {
      "cell_type": "code",
      "source": [
        "critical_value"
      ],
      "metadata": {
        "colab": {
          "base_uri": "https://localhost:8080/"
        },
        "id": "zwjThUd3p8TQ",
        "outputId": "d88b8ffe-18c0-47a1-d2e4-ba5dc9487d0b"
      },
      "execution_count": null,
      "outputs": [
        {
          "output_type": "execute_result",
          "data": {
            "text/plain": [
              "3.8852938346523933"
            ]
          },
          "metadata": {},
          "execution_count": 30
        }
      ]
    },
    {
      "cell_type": "code",
      "source": [
        "from os import fstat\n",
        "if fstats>critical_value:\n",
        "  print(\"Reject the null hypothesis\")\n",
        "else:\n",
        "  print(\"Fail to reject the null hypothesis\")"
      ],
      "metadata": {
        "colab": {
          "base_uri": "https://localhost:8080/"
        },
        "id": "hB6MchlEp-Yy",
        "outputId": "1bfe29ed-e666-4e1a-8284-5c3dfa1f5327"
      },
      "execution_count": null,
      "outputs": [
        {
          "output_type": "stream",
          "name": "stdout",
          "text": [
            "Reject the null hypothesis\n"
          ]
        }
      ]
    },
    {
      "cell_type": "code",
      "source": [
        "#It means that the three different region(A,B,C) are not equal."
      ],
      "metadata": {
        "id": "mf-II6N8qYiw"
      },
      "execution_count": null,
      "outputs": []
    }
  ]
}