{
  "nbformat": 4,
  "nbformat_minor": 0,
  "metadata": {
    "colab": {
      "provenance": []
    },
    "kernelspec": {
      "name": "python3",
      "display_name": "Python 3"
    },
    "language_info": {
      "name": "python"
    }
  },
  "cells": [
    {
      "cell_type": "code",
      "execution_count": 1,
      "metadata": {
        "colab": {
          "base_uri": "https://localhost:8080/",
          "height": 472
        },
        "id": "n53VNTmMxFs9",
        "outputId": "e3cd5755-2946-46ce-b2a2-9da16e30eaed"
      },
      "outputs": [
        {
          "output_type": "display_data",
          "data": {
            "text/plain": [
              "<Figure size 640x480 with 1 Axes>"
            ],
            "image/png": "[encoded data removed]"
          },
          "metadata": {}
        }
      ],
      "source": [
        "# Question10: Simulate a binomial distribution with 10 trials and a probability of success of 0.6 using Python.\n",
        "# Generate 1,000 samples and plot the distribution. What is the expected mean and variance?\n",
        "\n",
        "# Task: Use Python to generate the data, plot the distribution, and calculate the mean and variance.\n",
        "\n",
        "# Objective: Understand the properties of a binomial distribution and verify them through simulation.\n",
        "\n",
        "\n",
        "import numpy as np\n",
        "import matplotlib.pyplot as plt\n",
        "\n",
        "# Parameters\n",
        "n = 10  # Number of trials\n",
        "p = 0.6  # Probability of success\n",
        "num_samples = 1000\n",
        "\n",
        "# Simulate binomial distribution\n",
        "data = np.random.binomial(n, p, num_samples)\n",
        "\n",
        "# Plot histogram\n",
        "plt.hist(data, bins=range(11), align='left', rwidth=0.8, alpha=0.7)\n",
        "plt.xlabel('Number of Successes')\n",
        "plt.ylabel('Frequency')\n",
        "plt.title('Binomial Distribution')\n",
        "plt.show()\n"
      ]
    },
    {
      "cell_type": "code",
      "source": [
        "# Calculate mean and variance\n",
        "mean_simulated = np.mean(data)\n",
        "variance_simulated = np.var(data)\n",
        "\n",
        "print(f\"Simulated Mean: {mean_simulated:.4f}\")\n",
        "print(f\"Simulated Variance: {variance_simulated:.4f}\")\n",
        "\n",
        "# Theoretical mean and variance\n",
        "mean_theoretical = n * p\n",
        "variance_theoretical = n * p * (1 - p)\n",
        "\n",
        "print(f\"Theoretical Mean: {mean_theoretical:.4f}\")\n",
        "print(f\"Theoretical Variance: {variance_theoretical:.4f}\")\n",
        "\n",
        "\n"
      ],
      "metadata": {
        "colab": {
          "base_uri": "https://localhost:8080/"
        },
        "id": "QH2eZZTUxcXm",
        "outputId": "2e153504-59a9-4eff-c5fa-75529d3966b1"
      },
      "execution_count": 5,
      "outputs": [
        {
          "output_type": "stream",
          "name": "stdout",
          "text": [
            "Simulated Mean: 5.8970\n",
            "Simulated Variance: 2.1944\n",
            "Theoretical Mean: 6.0000\n",
            "Theoretical Variance: 2.4000\n"
          ]
        }
      ]
    },
    {
      "cell_type": "code",
      "source": [
        "# Verification\n",
        "\n",
        "# The simulated mean (5.90) and variance (2.194) closely match the theoretical values, verifying the properties of the binomial distribution.\n"
      ],
      "metadata": {
        "id": "OlXvTNzAxxF4"
      },
      "execution_count": null,
      "outputs": []
    }
  ]
}