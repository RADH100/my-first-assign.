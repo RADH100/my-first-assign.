{
  "nbformat": 4,
  "nbformat_minor": 0,
  "metadata": {
    "colab": {
      "provenance": []
    },
    "kernelspec": {
      "name": "python3",
      "display_name": "Python 3"
    },
    "language_info": {
      "name": "python"
    }
  },
  "cells": [
    {
      "cell_type": "code",
      "execution_count": 1,
      "metadata": {
        "id": "-9DA4xpmoexf"
      },
      "outputs": [],
      "source": [
        " #Create a 3x3 NumPy array with random integers between 1 and 100. Then, interchange its rows and columns.\n",
        " import numpy as np"
      ]
    },
    {
      "cell_type": "code",
      "source": [
        "\n",
        "np.random.randint(1,100)"
      ],
      "metadata": {
        "colab": {
          "base_uri": "https://localhost:8080/"
        },
        "id": "H-2PZsb2osgp",
        "outputId": "8c3b7882-f8de-46cf-d723-62720222a6a5"
      },
      "execution_count": 2,
      "outputs": [
        {
          "output_type": "execute_result",
          "data": {
            "text/plain": [
              "87"
            ]
          },
          "metadata": {},
          "execution_count": 2
        }
      ]
    },
    {
      "cell_type": "code",
      "source": [
        "arr1 = np.array(np.random.randint(1,100, (3,3)))"
      ],
      "metadata": {
        "id": "g_qQUAvupO56"
      },
      "execution_count": 3,
      "outputs": []
    },
    {
      "cell_type": "code",
      "source": [
        "arr1"
      ],
      "metadata": {
        "colab": {
          "base_uri": "https://localhost:8080/"
        },
        "id": "93gCZyRwpdKW",
        "outputId": "c7bd8c89-c9c6-47cf-8ed8-b1e684ddeddf"
      },
      "execution_count": 4,
      "outputs": [
        {
          "output_type": "execute_result",
          "data": {
            "text/plain": [
              "array([[32, 34, 17],\n",
              "       [15, 80, 72],\n",
              "       [22, 29, 34]])"
            ]
          },
          "metadata": {},
          "execution_count": 4
        }
      ]
    },
    {
      "cell_type": "code",
      "source": [
        "#to change its rows and coloumns.\n",
        "arr2 =arr1.T"
      ],
      "metadata": {
        "id": "5XSu70E6pejE"
      },
      "execution_count": 5,
      "outputs": []
    },
    {
      "cell_type": "code",
      "source": [
        "arr2"
      ],
      "metadata": {
        "colab": {
          "base_uri": "https://localhost:8080/"
        },
        "id": "8PIjPtmZrIUE",
        "outputId": "320cb0c4-6128-4d18-ae14-1a653ce5ac17"
      },
      "execution_count": 6,
      "outputs": [
        {
          "output_type": "execute_result",
          "data": {
            "text/plain": [
              "array([[32, 15, 22],\n",
              "       [34, 80, 29],\n",
              "       [17, 72, 34]])"
            ]
          },
          "metadata": {},
          "execution_count": 6
        }
      ]
    },
    {
      "cell_type": "code",
      "source": [
        "#Q2. Generate a 1D NumPy array with 10 elements. Reshape it into a 2x5 array, then into a 5x2 array.\n",
        "l= [1,2,3,4,5,6,7,8,9,10]"
      ],
      "metadata": {
        "id": "p2Y-O0fVrJX-"
      },
      "execution_count": 8,
      "outputs": []
    },
    {
      "cell_type": "code",
      "source": [
        "arr = np.array(l)"
      ],
      "metadata": {
        "id": "dqhNeAh9rn5d"
      },
      "execution_count": 9,
      "outputs": []
    },
    {
      "cell_type": "code",
      "source": [
        "arr"
      ],
      "metadata": {
        "colab": {
          "base_uri": "https://localhost:8080/"
        },
        "id": "bLem46dzrz67",
        "outputId": "ac35cadc-2039-4699-c795-9a43f2a6deec"
      },
      "execution_count": 10,
      "outputs": [
        {
          "output_type": "execute_result",
          "data": {
            "text/plain": [
              "array([ 1,  2,  3,  4,  5,  6,  7,  8,  9, 10])"
            ]
          },
          "metadata": {},
          "execution_count": 10
        }
      ]
    },
    {
      "cell_type": "code",
      "source": [
        "arr1= arr.reshape(2,5)"
      ],
      "metadata": {
        "id": "QERji75Or05O"
      },
      "execution_count": 11,
      "outputs": []
    },
    {
      "cell_type": "code",
      "source": [
        "arr1"
      ],
      "metadata": {
        "colab": {
          "base_uri": "https://localhost:8080/"
        },
        "id": "1Q4uSFAbsAWl",
        "outputId": "08cf27ad-9b1a-42e0-8bb2-034e94d1e5c9"
      },
      "execution_count": 12,
      "outputs": [
        {
          "output_type": "execute_result",
          "data": {
            "text/plain": [
              "array([[ 1,  2,  3,  4,  5],\n",
              "       [ 6,  7,  8,  9, 10]])"
            ]
          },
          "metadata": {},
          "execution_count": 12
        }
      ]
    },
    {
      "cell_type": "code",
      "source": [
        "arr2 = arr.reshape(5,2)"
      ],
      "metadata": {
        "id": "rdDjP-jFsBSf"
      },
      "execution_count": 13,
      "outputs": []
    },
    {
      "cell_type": "code",
      "source": [
        "arr2"
      ],
      "metadata": {
        "colab": {
          "base_uri": "https://localhost:8080/"
        },
        "id": "aHskFfGAsIy9",
        "outputId": "b8ade5a1-a955-4774-ba94-9899cc980a51"
      },
      "execution_count": 14,
      "outputs": [
        {
          "output_type": "execute_result",
          "data": {
            "text/plain": [
              "array([[ 1,  2],\n",
              "       [ 3,  4],\n",
              "       [ 5,  6],\n",
              "       [ 7,  8],\n",
              "       [ 9, 10]])"
            ]
          },
          "metadata": {},
          "execution_count": 14
        }
      ]
    },
    {
      "cell_type": "code",
      "source": [
        "#Q3. Create a 4x4 NumPy array with random float values. Add a border of zeros around it, resulting in a 6x6 array\n",
        "arr =np.random.rand(4,4)"
      ],
      "metadata": {
        "id": "eVwaS4PBsJzm"
      },
      "execution_count": 29,
      "outputs": []
    },
    {
      "cell_type": "code",
      "source": [
        "print(arr)"
      ],
      "metadata": {
        "colab": {
          "base_uri": "https://localhost:8080/"
        },
        "id": "nIWQLdOUtWft",
        "outputId": "6e011946-d0fa-484e-86de-e9806406d3bf"
      },
      "execution_count": 34,
      "outputs": [
        {
          "output_type": "stream",
          "name": "stdout",
          "text": [
            "[[0.44184183 0.08130053 0.32999219 0.93764604]\n",
            " [0.1040402  0.00136681 0.52268241 0.59160363]\n",
            " [0.20367933 0.87446178 0.68201786 0.73030412]\n",
            " [0.50255144 0.14887049 0.80791773 0.33899467]]\n"
          ]
        }
      ]
    },
    {
      "cell_type": "code",
      "source": [
        "#to add a border of zeros around it\n",
        "bordered_arr = np.pad(arr, pad_width=1, mode=\"constant\")\n"
      ],
      "metadata": {
        "id": "HVsXlmvgsroW"
      },
      "execution_count": 31,
      "outputs": []
    },
    {
      "cell_type": "code",
      "source": [
        "print(bordered_arr)"
      ],
      "metadata": {
        "colab": {
          "base_uri": "https://localhost:8080/"
        },
        "id": "Fe1RufVstt1F",
        "outputId": "90a8f105-27f9-4e21-fc79-349d9c279720"
      },
      "execution_count": 33,
      "outputs": [
        {
          "output_type": "stream",
          "name": "stdout",
          "text": [
            "[[0.         0.         0.         0.         0.         0.        ]\n",
            " [0.         0.44184183 0.08130053 0.32999219 0.93764604 0.        ]\n",
            " [0.         0.1040402  0.00136681 0.52268241 0.59160363 0.        ]\n",
            " [0.         0.20367933 0.87446178 0.68201786 0.73030412 0.        ]\n",
            " [0.         0.50255144 0.14887049 0.80791773 0.33899467 0.        ]\n",
            " [0.         0.         0.         0.         0.         0.        ]]\n"
          ]
        }
      ]
    },
    {
      "cell_type": "code",
      "source": [
        " #Q4. Using NumPy, create an array of integers from 10 to 60 with a step of 5.\n",
        " arr = np.arange(10,61,5)"
      ],
      "metadata": {
        "id": "OEprF3EMuaeM"
      },
      "execution_count": 38,
      "outputs": []
    },
    {
      "cell_type": "code",
      "source": [
        "print(arr)\n"
      ],
      "metadata": {
        "colab": {
          "base_uri": "https://localhost:8080/"
        },
        "id": "xrKsKvC1vvjD",
        "outputId": "28235c4f-12a7-4de8-9fe9-0273ee507dc1"
      },
      "execution_count": 39,
      "outputs": [
        {
          "output_type": "stream",
          "name": "stdout",
          "text": [
            "[10 15 20 25 30 35 40 45 50 55 60]\n"
          ]
        }
      ]
    },
    {
      "cell_type": "code",
      "source": [
        " #Q5. Create a NumPy array of strings ['python', 'numpy', 'pandas']. Apply different case transformations\n",
        "#(uppercase, lowercase, title case, etc.) to each element.\n",
        "arr = np.array([\"python\",\"numpy\",\"pandas\"])"
      ],
      "metadata": {
        "id": "TcLkom82wSGu"
      },
      "execution_count": 41,
      "outputs": []
    },
    {
      "cell_type": "code",
      "source": [
        "arr"
      ],
      "metadata": {
        "colab": {
          "base_uri": "https://localhost:8080/"
        },
        "id": "Ad_g7okIxOPo",
        "outputId": "2cb84c7c-dc62-4f29-cdb1-b66868f931ac"
      },
      "execution_count": 42,
      "outputs": [
        {
          "output_type": "execute_result",
          "data": {
            "text/plain": [
              "array(['python', 'numpy', 'pandas'], dtype='<U6')"
            ]
          },
          "metadata": {},
          "execution_count": 42
        }
      ]
    },
    {
      "cell_type": "code",
      "source": [
        "np.char.upper(arr)"
      ],
      "metadata": {
        "colab": {
          "base_uri": "https://localhost:8080/"
        },
        "id": "810odsEExRaO",
        "outputId": "6c528def-a012-4b88-fab7-09dcc5782ff7"
      },
      "execution_count": 43,
      "outputs": [
        {
          "output_type": "execute_result",
          "data": {
            "text/plain": [
              "array(['PYTHON', 'NUMPY', 'PANDAS'], dtype='<U6')"
            ]
          },
          "metadata": {},
          "execution_count": 43
        }
      ]
    },
    {
      "cell_type": "code",
      "source": [
        "np.char.lower(arr)"
      ],
      "metadata": {
        "colab": {
          "base_uri": "https://localhost:8080/"
        },
        "id": "OKV7tUivzMAl",
        "outputId": "5ebafa26-fb36-4d20-f644-7e12dda07f94"
      },
      "execution_count": 44,
      "outputs": [
        {
          "output_type": "execute_result",
          "data": {
            "text/plain": [
              "array(['python', 'numpy', 'pandas'], dtype='<U6')"
            ]
          },
          "metadata": {},
          "execution_count": 44
        }
      ]
    },
    {
      "cell_type": "code",
      "source": [
        "np.char.title(arr)"
      ],
      "metadata": {
        "colab": {
          "base_uri": "https://localhost:8080/"
        },
        "id": "coovpMAkzTW-",
        "outputId": "472accd2-e5bb-4d72-b585-c462645fb731"
      },
      "execution_count": 45,
      "outputs": [
        {
          "output_type": "execute_result",
          "data": {
            "text/plain": [
              "array(['Python', 'Numpy', 'Pandas'], dtype='<U6')"
            ]
          },
          "metadata": {},
          "execution_count": 45
        }
      ]
    },
    {
      "cell_type": "code",
      "source": [
        "#Q6. Generate a NumPy array of words. Insert a space between each character of every word in the array.\n",
        "words =np.array([\"pwskills\",\"data analytics\"])"
      ],
      "metadata": {
        "id": "hfQHKMiUzXn1"
      },
      "execution_count": 52,
      "outputs": []
    },
    {
      "cell_type": "code",
      "source": [
        "words"
      ],
      "metadata": {
        "colab": {
          "base_uri": "https://localhost:8080/"
        },
        "id": "Ir_9eYKsz011",
        "outputId": "45e83dfb-3c9e-4f92-ffdb-0f6c0a5bffe5"
      },
      "execution_count": 53,
      "outputs": [
        {
          "output_type": "execute_result",
          "data": {
            "text/plain": [
              "array(['pwskills', 'data analytics'], dtype='<U14')"
            ]
          },
          "metadata": {},
          "execution_count": 53
        }
      ]
    },
    {
      "cell_type": "code",
      "source": [
        "spaced_words = np.array([\"\".join([char, \" \"]) for word in words for char in word])\n",
        "\n",
        "\n",
        "print(spaced_words)\n",
        "\n"
      ],
      "metadata": {
        "colab": {
          "base_uri": "https://localhost:8080/"
        },
        "id": "7StDqC4cz2bu",
        "outputId": "b2f9bbca-7216-4583-d68b-c61b7553fb5e"
      },
      "execution_count": 55,
      "outputs": [
        {
          "output_type": "stream",
          "name": "stdout",
          "text": [
            "['p ' 'w ' 's ' 'k ' 'i ' 'l ' 'l ' 's ' 'd ' 'a ' 't ' 'a ' '  ' 'a '\n",
            " 'n ' 'a ' 'l ' 'y ' 't ' 'i ' 'c ' 's ']\n"
          ]
        }
      ]
    },
    {
      "cell_type": "code",
      "source": [
        "#Q7. Create two 2D NumPy arrays and perform element-wise addition, subtraction, multiplication, and division.\n",
        "\n",
        "arr1 =np.array([[1,2,3,4],[5,6,7,8]])\n",
        "arr2 =np.array([[9,10,11,12],[13,14,15,16]])"
      ],
      "metadata": {
        "id": "9YIxbhJd0J9G"
      },
      "execution_count": 63,
      "outputs": []
    },
    {
      "cell_type": "code",
      "source": [
        "addition = arr1+arr2"
      ],
      "metadata": {
        "id": "hP0B7b5f2Ojm"
      },
      "execution_count": 64,
      "outputs": []
    },
    {
      "cell_type": "code",
      "source": [
        "addition"
      ],
      "metadata": {
        "colab": {
          "base_uri": "https://localhost:8080/"
        },
        "id": "q-DnrSbT3KBu",
        "outputId": "9a3b6863-870a-4452-eb3a-a3f3012a27c0"
      },
      "execution_count": 65,
      "outputs": [
        {
          "output_type": "execute_result",
          "data": {
            "text/plain": [
              "array([[10, 12, 14, 16],\n",
              "       [18, 20, 22, 24]])"
            ]
          },
          "metadata": {},
          "execution_count": 65
        }
      ]
    },
    {
      "cell_type": "code",
      "source": [
        "subtraction = arr1-arr2"
      ],
      "metadata": {
        "id": "rwPKHpbu4AYW"
      },
      "execution_count": 66,
      "outputs": []
    },
    {
      "cell_type": "code",
      "source": [
        "subtraction"
      ],
      "metadata": {
        "colab": {
          "base_uri": "https://localhost:8080/"
        },
        "id": "5qeBWg3R4LF_",
        "outputId": "767e3955-b732-48ee-c075-f3b7af4dbaa4"
      },
      "execution_count": 67,
      "outputs": [
        {
          "output_type": "execute_result",
          "data": {
            "text/plain": [
              "array([[-8, -8, -8, -8],\n",
              "       [-8, -8, -8, -8]])"
            ]
          },
          "metadata": {},
          "execution_count": 67
        }
      ]
    },
    {
      "cell_type": "code",
      "source": [
        "multiply = arr1*arr2"
      ],
      "metadata": {
        "id": "rgbybEU64NL2"
      },
      "execution_count": 68,
      "outputs": []
    },
    {
      "cell_type": "code",
      "source": [
        "multiply"
      ],
      "metadata": {
        "colab": {
          "base_uri": "https://localhost:8080/"
        },
        "id": "G_zsSyED4SpW",
        "outputId": "d663bfde-5230-4628-835f-33dc90bcd8a3"
      },
      "execution_count": 69,
      "outputs": [
        {
          "output_type": "execute_result",
          "data": {
            "text/plain": [
              "array([[  9,  20,  33,  48],\n",
              "       [ 65,  84, 105, 128]])"
            ]
          },
          "metadata": {},
          "execution_count": 69
        }
      ]
    },
    {
      "cell_type": "code",
      "source": [
        "division = arr1/arr2"
      ],
      "metadata": {
        "id": "R_rJm-qB4UnW"
      },
      "execution_count": 70,
      "outputs": []
    },
    {
      "cell_type": "code",
      "source": [
        "division"
      ],
      "metadata": {
        "colab": {
          "base_uri": "https://localhost:8080/"
        },
        "id": "ovGgZPCf4aO9",
        "outputId": "7311262b-da2f-4034-89a8-825ac1f03ab6"
      },
      "execution_count": 71,
      "outputs": [
        {
          "output_type": "execute_result",
          "data": {
            "text/plain": [
              "array([[0.11111111, 0.2       , 0.27272727, 0.33333333],\n",
              "       [0.38461538, 0.42857143, 0.46666667, 0.5       ]])"
            ]
          },
          "metadata": {},
          "execution_count": 71
        }
      ]
    },
    {
      "cell_type": "code",
      "source": [
        " #Q8. Use NumPy to create a 5x5 identity matrix, then extract its diagonal elements.\n",
        " identity_mat= np.eye(5)"
      ],
      "metadata": {
        "id": "IH3pN_4g4b6d"
      },
      "execution_count": 72,
      "outputs": []
    },
    {
      "cell_type": "code",
      "source": [
        "identity_mat"
      ],
      "metadata": {
        "colab": {
          "base_uri": "https://localhost:8080/"
        },
        "id": "OAeYXMB35MEN",
        "outputId": "b1c36a47-2f0c-429c-b38a-656d4f93c48d"
      },
      "execution_count": 73,
      "outputs": [
        {
          "output_type": "execute_result",
          "data": {
            "text/plain": [
              "array([[1., 0., 0., 0., 0.],\n",
              "       [0., 1., 0., 0., 0.],\n",
              "       [0., 0., 1., 0., 0.],\n",
              "       [0., 0., 0., 1., 0.],\n",
              "       [0., 0., 0., 0., 1.]])"
            ]
          },
          "metadata": {},
          "execution_count": 73
        }
      ]
    },
    {
      "cell_type": "code",
      "source": [
        "diagonal_element = np.diag(identity_mat)"
      ],
      "metadata": {
        "id": "qylk9N535O_-"
      },
      "execution_count": 74,
      "outputs": []
    },
    {
      "cell_type": "code",
      "source": [
        "diagonal_element"
      ],
      "metadata": {
        "colab": {
          "base_uri": "https://localhost:8080/"
        },
        "id": "pwSbJnyM5cg-",
        "outputId": "88c98838-db17-4777-8372-4db18e109177"
      },
      "execution_count": 75,
      "outputs": [
        {
          "output_type": "execute_result",
          "data": {
            "text/plain": [
              "array([1., 1., 1., 1., 1.])"
            ]
          },
          "metadata": {},
          "execution_count": 75
        }
      ]
    },
    {
      "cell_type": "code",
      "source": [
        " #Q9. Generate a NumPy array of 100 random integers between 0 and 1000. Find and display all prime numbers in\n",
        "# this array\n",
        "arr = np.random.randint(0,1000,100)"
      ],
      "metadata": {
        "id": "Uh-i56hS5eyO"
      },
      "execution_count": 76,
      "outputs": []
    },
    {
      "cell_type": "code",
      "source": [
        "arr"
      ],
      "metadata": {
        "colab": {
          "base_uri": "https://localhost:8080/"
        },
        "id": "0aVZlfxL6HGC",
        "outputId": "7b6f0b8d-9a16-4774-b4ea-fd8ae8b98022"
      },
      "execution_count": 77,
      "outputs": [
        {
          "output_type": "execute_result",
          "data": {
            "text/plain": [
              "array([177, 432, 652, 945, 639, 100, 984, 568,  69, 537, 949, 628, 149,\n",
              "        74, 119, 134, 976, 831, 408, 681, 594, 705, 119, 334, 678, 760,\n",
              "       128, 935, 320, 509,  44, 489, 851, 971, 300,  94, 117, 885,  51,\n",
              "        78, 684, 132, 818, 739, 935, 779,  66, 789, 694, 798, 481, 139,\n",
              "       404, 558,   1, 386, 857, 254, 750,  62, 640, 451, 743, 234, 983,\n",
              "       784, 797, 538, 453, 136,  77, 102,  61, 337,  63, 709, 821, 439,\n",
              "       602, 825, 792,  54, 565, 155, 543, 645,  14, 549, 795,  63, 901,\n",
              "       468, 269, 949, 366, 797,  84, 199, 187, 217])"
            ]
          },
          "metadata": {},
          "execution_count": 77
        }
      ]
    },
    {
      "cell_type": "code",
      "source": [
        "prime_num = np.fromfunction(filter(lambda i: i%2==0,arr))"
      ],
      "metadata": {
        "colab": {
          "base_uri": "https://localhost:8080/",
          "height": 146
        },
        "id": "pXhnCEGc6H8G",
        "outputId": "27c23501-23e6-4461-b19b-05f916a64a48"
      },
      "execution_count": 84,
      "outputs": [
        {
          "output_type": "error",
          "ename": "TypeError",
          "evalue": "fromfunction() missing 1 required positional argument: 'shape'",
          "traceback": [
            "\u001b[0;31m---------------------------------------------------------------------------\u001b[0m",
            "\u001b[0;31mTypeError\u001b[0m                                 Traceback (most recent call last)",
            "\u001b[0;32m<ipython-input-84-6f5fbe688aab>\u001b[0m in \u001b[0;36m<cell line: 1>\u001b[0;34m()\u001b[0m\n\u001b[0;32m----> 1\u001b[0;31m \u001b[0mprime_num\u001b[0m \u001b[0;34m=\u001b[0m \u001b[0mnp\u001b[0m\u001b[0;34m.\u001b[0m\u001b[0mfromfunction\u001b[0m\u001b[0;34m(\u001b[0m\u001b[0mfilter\u001b[0m\u001b[0;34m(\u001b[0m\u001b[0;32mlambda\u001b[0m \u001b[0mi\u001b[0m\u001b[0;34m:\u001b[0m \u001b[0mi\u001b[0m\u001b[0;34m%\u001b[0m\u001b[0;36m2\u001b[0m\u001b[0;34m==\u001b[0m\u001b[0;36m0\u001b[0m\u001b[0;34m,\u001b[0m\u001b[0marr\u001b[0m\u001b[0;34m)\u001b[0m\u001b[0;34m)\u001b[0m\u001b[0;34m\u001b[0m\u001b[0;34m\u001b[0m\u001b[0m\n\u001b[0m",
            "\u001b[0;31mTypeError\u001b[0m: fromfunction() missing 1 required positional argument: 'shape'"
          ]
        }
      ]
    },
    {
      "cell_type": "code",
      "source": [
        " #Q10. Create a NumPy array representing daily temperatures for a month. Calculate and display the weekly\n",
        "# averages.\n",
        "daily_temperatures = np.random.randint(20, 30, size=30)\n",
        "print(daily_temperatures)\n",
        "\n",
        "\n"
      ],
      "metadata": {
        "colab": {
          "base_uri": "https://localhost:8080/"
        },
        "id": "m8acUhBZ7gZg",
        "outputId": "d5dd837f-320b-45c1-8417-263301dfecb1"
      },
      "execution_count": 85,
      "outputs": [
        {
          "output_type": "stream",
          "name": "stdout",
          "text": [
            "[21 21 26 26 23 23 29 25 26 29 20 29 21 29 21 27 28 20 21 20 22 21 28 27\n",
            " 24 24 25 20 29 29]\n"
          ]
        }
      ]
    },
    {
      "cell_type": "code",
      "source": [
        "# Calculate weekly averages\n",
        "weekly_averages = [daily_temperatures[i:i+7].mean() for i in range(0, len(daily_temperatures), 7)]\n",
        "print(weekly_averages)\n"
      ],
      "metadata": {
        "colab": {
          "base_uri": "https://localhost:8080/"
        },
        "id": "y8Vsi2-hALrP",
        "outputId": "5706ecae-3b64-4239-f642-4e4126c493a1"
      },
      "execution_count": 86,
      "outputs": [
        {
          "output_type": "stream",
          "name": "stdout",
          "text": [
            "[24.142857142857142, 25.571428571428573, 22.714285714285715, 24.142857142857142, 29.0]\n"
          ]
        }
      ]
    },
    {
      "cell_type": "code",
      "source": [],
      "metadata": {
        "id": "U07ewty8AaKW"
      },
      "execution_count": null,
      "outputs": []
    }
  ]
}