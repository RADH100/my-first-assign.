{
  "nbformat": 4,
  "nbformat_minor": 0,
  "metadata": {
    "colab": {
      "provenance": []
    },
    "kernelspec": {
      "name": "python3",
      "display_name": "Python 3"
    },
    "language_info": {
      "name": "python"
    }
  },
  "cells": [
    {
      "cell_type": "code",
      "execution_count": 1,
      "metadata": {
        "colab": {
          "base_uri": "https://localhost:8080/",
          "height": 122
        },
        "id": "pjgJOyLq3C8x",
        "outputId": "12a9abe7-3e3e-452d-fcf9-b4bbcb8c4d65"
      },
      "outputs": [
        {
          "output_type": "execute_result",
          "data": {
            "text/plain": [
              "\"1. Explain the different types of data (qualitative and quantitative) and provide examples of each. Discuss\\nnominal, ordinal, interval, and ratio scales.\\n\\nAns. Types of Data:\\n\\nData can be broadly classified into two categories:\\n1. Qualitative Data (non-numerical)\\n2. Quantitative Data (numerical)\\n\\nQualitative Data:\\nDescribes characteristics or attributes, often categorical or textual.\\nExamples:\\n- Colors (red, blue, green)\\n- Nationalities (American, Canadian, Indian)\\n- Occupation (student, teacher, engineer)\\n- Product reviews (positive, negative, neutral)\\n\\nQuantitative Data:\\nRepresents numerical values, often measurable or countable.\\nExamples:\\n- Age (25, 31, 42)\\n- Height (175 cm, 180 cm, 190 cm)\\n- Salary ($50,000, $75,000, $100,000)\\n- Test scores (80%, 90%, 95%)\\n\\nData Scales:\\nQuantitative data can be further categorized into four scales:\\n\\n1. Nominal Scale:\\n- Categorical data without inherent order or ranking.\\n- Examples: Colors, Nationalities, Occupation\\n\\n1. Ordinal Scale:\\n- Categorical data with a natural order or ranking.\\n- Examples: Product ratings (1-5), Education level (High school, Bachelor's, Master's)\\n\\n1. Interval Scale:\\n- Numerical data with equal intervals between consecutive values.\\n- Examples: Temperature (°C or °F), IQ scores\\n\\n1. Ratio Scale:\\n- Numerical data with equal intervals and a true zero point.\\n- Examples: Weight (kg or lbs), Height (cm or inches), Age (years)\\n\\nKey differences:\\n- Nominal and ordinal scales are qualitative.\\n- Interval and ratio scales are quantitative.\\n- Interval scales lack a true zero point, while ratio scales have one.\""
            ],
            "application/vnd.google.colaboratory.intrinsic+json": {
              "type": "string"
            }
          },
          "metadata": {},
          "execution_count": 1
        }
      ],
      "source": [
        "\"\"\"1. Explain the different types of data (qualitative and quantitative) and provide examples of each. Discuss\n",
        "nominal, ordinal, interval, and ratio scales.\n",
        "\n",
        "Ans. Types of Data:\n",
        "\n",
        "Data can be broadly classified into two categories:\n",
        "1. Qualitative Data (non-numerical)\n",
        "2. Quantitative Data (numerical)\n",
        "\n",
        "Qualitative Data:\n",
        "Describes characteristics or attributes, often categorical or textual.\n",
        "Examples:\n",
        "- Colors (red, blue, green)\n",
        "- Nationalities (American, Canadian, Indian)\n",
        "- Occupation (student, teacher, engineer)\n",
        "- Product reviews (positive, negative, neutral)\n",
        "\n",
        "Quantitative Data:\n",
        "Represents numerical values, often measurable or countable.\n",
        "Examples:\n",
        "- Age (25, 31, 42)\n",
        "- Height (175 cm, 180 cm, 190 cm)\n",
        "- Salary ($50,000, $75,000, $100,000)\n",
        "- Test scores (80%, 90%, 95%)\n",
        "\n",
        "Data Scales:\n",
        "Quantitative data can be further categorized into four scales:\n",
        "\n",
        "1. Nominal Scale:\n",
        "- Categorical data without inherent order or ranking.\n",
        "- Examples: Colors, Nationalities, Occupation\n",
        "\n",
        "1. Ordinal Scale:\n",
        "- Categorical data with a natural order or ranking.\n",
        "- Examples: Product ratings (1-5), Education level (High school, Bachelor's, Master's)\n",
        "\n",
        "1. Interval Scale:\n",
        "- Numerical data with equal intervals between consecutive values.\n",
        "- Examples: Temperature (°C or °F), IQ scores\n",
        "\n",
        "1. Ratio Scale:\n",
        "- Numerical data with equal intervals and a true zero point.\n",
        "- Examples: Weight (kg or lbs), Height (cm or inches), Age (years)\n",
        "\n",
        "Key differences:\n",
        "- Nominal and ordinal scales are qualitative.\n",
        "- Interval and ratio scales are quantitative.\n",
        "- Interval scales lack a true zero point, while ratio scales have one.\"\"\"\n",
        "\n"
      ]
    },
    {
      "cell_type": "code",
      "source": [
        "\"\"\"2. What are the measures of central tendency, and when should you use each? Discuss the mean, median,\n",
        "and mode with examples and situations where each is appropriate.\n",
        "\n",
        "\n",
        "Ans. Measures of Central Tendency:\n",
        "Measures of central tendency describe the middle or typical value of a dataset. There are three primary measures:\n",
        "1. Mean\n",
        "2. Median\n",
        "3. Mode\n",
        "\n",
        "Mean:\n",
        "The average value of a dataset.\n",
        "\n",
        "Example:\n",
        "Scores: 70, 80, 90, 100, 50\n",
        "Mean = (70 + 80 + 90 + 100 + 50) / 5 = 78\n",
        "When to use:\n",
        "\n",
        "- Suitable for continuous data.\n",
        "- Use when data is normally distributed or symmetrical.\n",
        "- Sensitive to outliers (extremely high/low values).\n",
        "\n",
        "Median:\n",
        "The middle value when data is sorted in ascending order.\n",
        "\n",
        "Calculation:\n",
        "\n",
        "- If n (number of values) is odd, median is the middle value.\n",
        "- If n is even, median is the average of the two middle values.\n",
        "\n",
        "Example:\n",
        "Scores: 70, 80, 90, 100, 50\n",
        "Sorted: 50, 70, 80, 90, 100\n",
        "Median = 80\n",
        "\n",
        "When to use:\n",
        "- Suitable for continuous or ordinal data.\n",
        "- Use when data is skewed or contains outliers.\n",
        "- More robust than mean for non-normal distributions.\n",
        "\n",
        "Mode:\n",
        "The most frequently occurring value.\n",
        "Example:\n",
        "Colors: red, blue, red, green, red, blue\n",
        "Mode = red\n",
        "\n",
        "When to use:\n",
        "- Suitable for categorical or nominal data.\n",
        "- Use when data has multiple peaks or modes.\n",
        "- Not useful for continuous data.\n",
        "\n",
        "Choosing the Right Measure:\n",
        "\n",
        "- Use mean for normally distributed, continuous data.\n",
        "- Use median for skewed, ordinal, or continuous data.\n",
        "- Use mode for categorical or nominal data.\n",
        "\n",
        "Real-World Scenarios:\n",
        "\n",
        "- Analyzing student test scores: Median or Mean (depending on distribution)\n",
        "- Describing customer demographics: Mode (categorical)\n",
        "- Calculating average salary: Median (to reduce outlier impact)\"\"\"\n",
        "\n"
      ],
      "metadata": {
        "colab": {
          "base_uri": "https://localhost:8080/",
          "height": 122
        },
        "id": "ZtAcoTpU5dWb",
        "outputId": "6ffdf23a-49d5-43c5-8802-3da68f8c2b65"
      },
      "execution_count": 3,
      "outputs": [
        {
          "output_type": "execute_result",
          "data": {
            "text/plain": [
              "'2. What are the measures of central tendency, and when should you use each? Discuss the mean, median,\\nand mode with examples and situations where each is appropriate.\\n\\n\\nAns. Measures of Central Tendency:\\nMeasures of central tendency describe the middle or typical value of a dataset. There are three primary measures:\\n1. Mean\\n2. Median\\n3. Mode\\n\\nMean:\\nThe average value of a dataset.\\n\\nExample:\\nScores: 70, 80, 90, 100, 50\\nMean = (70 + 80 + 90 + 100 + 50) / 5 = 78\\nWhen to use:\\n\\n- Suitable for continuous data.\\n- Use when data is normally distributed or symmetrical.\\n- Sensitive to outliers (extremely high/low values).\\n\\nMedian:\\nThe middle value when data is sorted in ascending order.\\n\\nCalculation:\\n\\n- If n (number of values) is odd, median is the middle value.\\n- If n is even, median is the average of the two middle values.\\n\\nExample:\\nScores: 70, 80, 90, 100, 50\\nSorted: 50, 70, 80, 90, 100\\nMedian = 80\\n\\nWhen to use:\\n- Suitable for continuous or ordinal data.\\n- Use when data is skewed or contains outliers.\\n- More robust than mean for non-normal distributions.\\n\\nMode:\\nThe most frequently occurring value.\\nExample:\\nColors: red, blue, red, green, red, blue\\nMode = red\\n\\nWhen to use:\\n- Suitable for categorical or nominal data.\\n- Use when data has multiple peaks or modes.\\n- Not useful for continuous data.\\n\\nChoosing the Right Measure:\\n\\n- Use mean for normally distributed, continuous data.\\n- Use median for skewed, ordinal, or continuous data.\\n- Use mode for categorical or nominal data.\\n\\nReal-World Scenarios:\\n\\n- Analyzing student test scores: Median or Mean (depending on distribution)\\n- Describing customer demographics: Mode (categorical)\\n- Calculating average salary: Median (to reduce outlier impact)'"
            ],
            "application/vnd.google.colaboratory.intrinsic+json": {
              "type": "string"
            }
          },
          "metadata": {},
          "execution_count": 3
        }
      ]
    },
    {
      "cell_type": "code",
      "source": [
        "\"\"\"3. Explain the concept of dispersion. How do variance and standard deviation measure the spread of data?\n",
        "\n",
        "Ans. Dispersion:\n",
        "Dispersion measures the spread or variability of data points within a dataset. It describes how data points deviate from the central tendency (mean, median, or mode).\n",
        "\n",
        "Types of Dispersion:\n",
        "\n",
        "1. Range (simplest measure)\n",
        "2. Variance\n",
        "3. Standard Deviation\n",
        "4. Interquartile Range (IQR)\n",
        "\n",
        "Variance:\n",
        "Measures the average squared difference between each data point and the mean.\n",
        "\n",
        "Calculation:\n",
        "Variance (σ²) = Σ(xi - μ)² / (n - 1)\n",
        "where:\n",
        "\n",
        "- xi = individual data points\n",
        "- μ = mean\n",
        "- n = sample size\n",
        "- Σ = summation\n",
        "\n",
        "Standard Deviation:\n",
        "The square root of variance, representing the average distance between data points and the mean.\n",
        "\n",
        "Calculation:\n",
        "Standard Deviation (σ) = √Variance\n",
        "\n",
        "Properties:\n",
        "\n",
        "- Measures spread in the same units as the data\n",
        "- Larger standard deviation indicates greater spread\n",
        "\n",
        "Example:\n",
        "Exam Scores: 70, 80, 90, 100, 50\n",
        "\n",
        "Mean = 78\n",
        "Variance = 124\n",
        "Standard Deviation = √124 ≈ 11.14\n",
        "\n",
        "Interpretation:\n",
        "- The average score deviates from the mean by approximately 11.14 points.\"\"\"\n",
        "\n"
      ],
      "metadata": {
        "colab": {
          "base_uri": "https://localhost:8080/",
          "height": 122
        },
        "id": "g4VUeaay7Ejq",
        "outputId": "e9f8afd6-bb07-423b-bd3f-24522a3e00f9"
      },
      "execution_count": 5,
      "outputs": [
        {
          "output_type": "execute_result",
          "data": {
            "text/plain": [
              "'3. Explain the concept of dispersion. How do variance and standard deviation measure the spread of data?\\n\\nAns. Dispersion:\\nDispersion measures the spread or variability of data points within a dataset. It describes how data points deviate from the central tendency (mean, median, or mode).\\n\\nTypes of Dispersion:\\n\\n1. Range (simplest measure)\\n2. Variance\\n3. Standard Deviation\\n4. Interquartile Range (IQR)\\n\\nVariance:\\nMeasures the average squared difference between each data point and the mean.\\n\\nCalculation:\\nVariance (σ²) = Σ(xi - μ)² / (n - 1)\\nwhere:\\n\\n- xi = individual data points\\n- μ = mean\\n- n = sample size\\n- Σ = summation\\n\\nStandard Deviation:\\nThe square root of variance, representing the average distance between data points and the mean.\\n\\nCalculation:\\nStandard Deviation (σ) = √Variance\\n\\nProperties:\\n\\n- Measures spread in the same units as the data\\n- Larger standard deviation indicates greater spread\\n\\nExample:\\nExam Scores: 70, 80, 90, 100, 50\\n\\nMean = 78\\nVariance = 124\\nStandard Deviation = √124 ≈ 11.14\\n\\nInterpretation:\\n- The average score deviates from the mean by approximately 11.14 points.'"
            ],
            "application/vnd.google.colaboratory.intrinsic+json": {
              "type": "string"
            }
          },
          "metadata": {},
          "execution_count": 5
        }
      ]
    },
    {
      "cell_type": "code",
      "source": [
        "\"\"\"4. What is a box plot, and what can it tell you about the distribution of data?\n",
        "\n",
        "Ans. Box Plot:\n",
        "A box plot, also known as a box-and-whisker plot, is a graphical representation of a dataset's distribution. It displays the five-number summary:\n",
        "\n",
        "1. Minimum value (Q0)\n",
        "2. First quartile (Q1, 25th percentile)\n",
        "3. Median (Q2, 50th percentile)\n",
        "4. Third quartile (Q3, 75th percentile)\n",
        "5. Maximum value (Q4)\n",
        "\n",
        "Box Plot Components:\n",
        "\n",
        "- Box: Interquartile range (IQR), Q1 to Q3\n",
        "- Median line: Q2, median value\n",
        "- Whiskers: Lines extending from Q1 and Q3 to minimum and maximum values\n",
        "- Outliers: Data points beyond 1.5*IQR from Q1 or Q3\n",
        "\n",
        "What a Box Plot Can Tell You:\n",
        "\n",
        "1. Central Tendency: Median value indicates central tendency.\n",
        "2. Spread: IQR (box length) shows data spread.\n",
        "3. Skewness: Asymmetrical box plot indicates skewness.\n",
        "4. Outliers: Points beyond whiskers indicate potential outliers.\n",
        "5. Distribution Shape: Box plot shape can suggest normality, uniformity, or other distributions.\n",
        "\n",
        "Interpretation:\n",
        "\n",
        "- Symmetrical box: Suggests normal or uniform distribution.\n",
        "- Asymmetrical box: Indicates skewness.\n",
        "- Long box: Indicates high variability.\n",
        "- Short box: Indicates low variability.\n",
        "- Outliers: May indicate errors or unusual data points.\"\"\"\n",
        "\n"
      ],
      "metadata": {
        "colab": {
          "base_uri": "https://localhost:8080/",
          "height": 122
        },
        "id": "z1Qbq9Wn85MR",
        "outputId": "d4bc40fc-d4c3-4da1-b7a2-0d347ef469f9"
      },
      "execution_count": 6,
      "outputs": [
        {
          "output_type": "execute_result",
          "data": {
            "text/plain": [
              "\"4. What is a box plot, and what can it tell you about the distribution of data?\\n\\nAns. Box Plot:\\nA box plot, also known as a box-and-whisker plot, is a graphical representation of a dataset's distribution. It displays the five-number summary:\\n\\n1. Minimum value (Q0)\\n2. First quartile (Q1, 25th percentile)\\n3. Median (Q2, 50th percentile)\\n4. Third quartile (Q3, 75th percentile)\\n5. Maximum value (Q4)\\n\\nBox Plot Components:\\n\\n- Box: Interquartile range (IQR), Q1 to Q3\\n- Median line: Q2, median value\\n- Whiskers: Lines extending from Q1 and Q3 to minimum and maximum values\\n- Outliers: Data points beyond 1.5*IQR from Q1 or Q3\\n\\nWhat a Box Plot Can Tell You:\\n\\n1. Central Tendency: Median value indicates central tendency.\\n2. Spread: IQR (box length) shows data spread.\\n3. Skewness: Asymmetrical box plot indicates skewness.\\n4. Outliers: Points beyond whiskers indicate potential outliers.\\n5. Distribution Shape: Box plot shape can suggest normality, uniformity, or other distributions.\\n\\nInterpretation:\\n\\n- Symmetrical box: Suggests normal or uniform distribution.\\n- Asymmetrical box: Indicates skewness.\\n- Long box: Indicates high variability.\\n- Short box: Indicates low variability.\\n- Outliers: May indicate errors or unusual data points.\""
            ],
            "application/vnd.google.colaboratory.intrinsic+json": {
              "type": "string"
            }
          },
          "metadata": {},
          "execution_count": 6
        }
      ]
    },
    {
      "cell_type": "code",
      "source": [
        "\"\"\"5. Discuss the role of random sampling in making inferences about populations.\n",
        "\n",
        "Ans. Random Sampling:\n",
        "Random sampling is a crucial technique in statistics for making inferences about populations.\n",
        "It involves selecting a subset of individuals or data points from a larger population, ensuring each member has an equal chance of being chosen.\n",
        "\n",
        "Role of Random Sampling:\n",
        "\n",
        "1. Representation: Random samples represent the population's characteristics.\n",
        "2. Unbiasedness: Eliminates selection bias, ensuring accurate inferences.\n",
        "3. Generalizability: Allows for extrapolation of results to the population.\n",
        "\n",
        "Types of Random Sampling:\n",
        "\n",
        "1. Simple Random Sampling (SRS)\n",
        "2. Stratified Random Sampling\n",
        "3. Cluster Random Sampling\n",
        "4. Systematic Random Sampling\n",
        "\n",
        "Importance of Random Sampling:\n",
        "\n",
        "1. Reduces sampling bias\n",
        "2. Increases precision and accuracy\n",
        "3. Enables statistical inference\n",
        "4. Allows for hypothesis testing\n",
        "\n",
        "Inferences about Populations:\n",
        "\n",
        "1. Population parameters: Estimate population mean, proportion, or variance.\n",
        "2. Confidence intervals: Construct intervals to estimate population parameters.\n",
        "3. Hypothesis testing: Test hypotheses about population parameters.\"\"\"\n",
        "\n",
        "\n"
      ],
      "metadata": {
        "colab": {
          "base_uri": "https://localhost:8080/",
          "height": 122
        },
        "id": "nq4-jgyY-L5j",
        "outputId": "b2abb603-de3a-47ee-8cf4-25582a44f439"
      },
      "execution_count": 7,
      "outputs": [
        {
          "output_type": "execute_result",
          "data": {
            "text/plain": [
              "\"5. Discuss the role of random sampling in making inferences about populations.\\n\\nAns. Random Sampling:\\nRandom sampling is a crucial technique in statistics for making inferences about populations. \\nIt involves selecting a subset of individuals or data points from a larger population, ensuring each member has an equal chance of being chosen.\\n\\nRole of Random Sampling:\\n\\n1. Representation: Random samples represent the population's characteristics.\\n2. Unbiasedness: Eliminates selection bias, ensuring accurate inferences.\\n3. Generalizability: Allows for extrapolation of results to the population.\\n\\nTypes of Random Sampling:\\n\\n1. Simple Random Sampling (SRS)\\n2. Stratified Random Sampling\\n3. Cluster Random Sampling\\n4. Systematic Random Sampling\\n\\nImportance of Random Sampling:\\n\\n1. Reduces sampling bias\\n2. Increases precision and accuracy\\n3. Enables statistical inference\\n4. Allows for hypothesis testing\\n\\nInferences about Populations:\\n\\n1. Population parameters: Estimate population mean, proportion, or variance.\\n2. Confidence intervals: Construct intervals to estimate population parameters.\\n3. Hypothesis testing: Test hypotheses about population parameters.\""
            ],
            "application/vnd.google.colaboratory.intrinsic+json": {
              "type": "string"
            }
          },
          "metadata": {},
          "execution_count": 7
        }
      ]
    },
    {
      "cell_type": "code",
      "source": [
        "\"\"\"6. Explain the concept of skewness and its types. How does skewness affect the interpretation of data?\n",
        "\n",
        "Ans. Skewness:\n",
        "Skewness measures the asymmetry of a distribution, describing how data points are distributed around the mean.\n",
        "\n",
        "Types of Skewness:\n",
        "\n",
        "1. Positive Skewness (Right-Skewed):\n",
        "    - Tail extends to the right.\n",
        "    - Mean > Median > Mode.\n",
        "\n",
        "\n",
        "1. Negative Skewness (Left-Skewed):\n",
        "    - Tail extends to the left.\n",
        "    - Mode > Median > Mean.\n",
        "\n",
        "\n",
        "1. Zero Skewness (Symmetric):\n",
        "    - Distribution is symmetrical.\n",
        "    - Mean = Median = Mode.\n",
        "\n",
        "Effects of Skewness:\n",
        "\n",
        "1. Misleading averages: Skewed data can lead to misinterpretation of mean values.\n",
        "2. Hidden patterns: Skewness can mask underlying patterns or relationships.\n",
        "3. Inaccurate predictions: Skewed data can affect predictive models' accuracy.\n",
        "\n",
        "Interpretation of Skewness:\n",
        "\n",
        "1. Identify outliers: Skewness can indicate presence of outliers.\n",
        "2. Understand data distribution: Skewness helps visualize data spread.\n",
        "3. Choose appropriate statistics: Skewness influences choice of statistical methods.\"\"\"\n"
      ],
      "metadata": {
        "colab": {
          "base_uri": "https://localhost:8080/",
          "height": 122
        },
        "id": "nz4R8zdF_nF7",
        "outputId": "0566fe5f-76c9-45ad-c2c9-1c865e9b37fb"
      },
      "execution_count": 8,
      "outputs": [
        {
          "output_type": "execute_result",
          "data": {
            "text/plain": [
              "\"6. Explain the concept of skewness and its types. How does skewness affect the interpretation of data?\\n\\nAns. Skewness:\\nSkewness measures the asymmetry of a distribution, describing how data points are distributed around the mean.\\n\\nTypes of Skewness:\\n\\n1. Positive Skewness (Right-Skewed):\\n    - Tail extends to the right.\\n    - Mean > Median > Mode.\\n    \\n\\n1. Negative Skewness (Left-Skewed):\\n    - Tail extends to the left.\\n    - Mode > Median > Mean.\\n    \\n\\n1. Zero Skewness (Symmetric):\\n    - Distribution is symmetrical.\\n    - Mean = Median = Mode.\\n    \\nEffects of Skewness:\\n\\n1. Misleading averages: Skewed data can lead to misinterpretation of mean values.\\n2. Hidden patterns: Skewness can mask underlying patterns or relationships.\\n3. Inaccurate predictions: Skewed data can affect predictive models' accuracy.\\n\\nInterpretation of Skewness:\\n\\n1. Identify outliers: Skewness can indicate presence of outliers.\\n2. Understand data distribution: Skewness helps visualize data spread.\\n3. Choose appropriate statistics: Skewness influences choice of statistical methods.\""
            ],
            "application/vnd.google.colaboratory.intrinsic+json": {
              "type": "string"
            }
          },
          "metadata": {},
          "execution_count": 8
        }
      ]
    },
    {
      "cell_type": "code",
      "source": [
        "\"\"\"7. What is the interquartile range (IQR), and how is it used to detect outliers?\n",
        "\n",
        "Ans. Interquartile Range (IQR):\n",
        "\n",
        "The interquartile range (IQR) measures the spread of a dataset, representing the difference between the 75th percentile (Q3) and 25th percentile (Q1).\n",
        "\n",
        "IQR = Q3 - Q1\n",
        "\n",
        "Quartiles:\n",
        "\n",
        "- Q1 (25th percentile): First quartile, lowest 25% of data\n",
        "- Q2 (50th percentile): Median, middle 50% of data\n",
        "- Q3 (75th percentile): Third quartile, highest 25% of data\n",
        "\n",
        "Using IQR to Detect Outliers:\n",
        "\n",
        "1. Calculate IQR\n",
        "2. Determine outlier boundaries:\n",
        "    - Lower bound: Q1 - 1.5*IQR\n",
        "    - Upper bound: Q3 + 1.5*IQR\n",
        "3. Identify data points outside these boundaries as potential outliers\"\"\"\n",
        "\n",
        "\n"
      ],
      "metadata": {
        "colab": {
          "base_uri": "https://localhost:8080/",
          "height": 87
        },
        "id": "MpVJRemSA8qv",
        "outputId": "143dd565-551d-4760-f250-b14c9c9fd957"
      },
      "execution_count": 9,
      "outputs": [
        {
          "output_type": "execute_result",
          "data": {
            "text/plain": [
              "'7. What is the interquartile range (IQR), and how is it used to detect outliers?\\n\\nAns. Interquartile Range (IQR):\\n\\nThe interquartile range (IQR) measures the spread of a dataset, representing the difference between the 75th percentile (Q3) and 25th percentile (Q1).\\n\\nIQR = Q3 - Q1\\n\\nQuartiles:\\n\\n- Q1 (25th percentile): First quartile, lowest 25% of data\\n- Q2 (50th percentile): Median, middle 50% of data\\n- Q3 (75th percentile): Third quartile, highest 25% of data\\n\\nUsing IQR to Detect Outliers:\\n\\n1. Calculate IQR\\n2. Determine outlier boundaries:\\n    - Lower bound: Q1 - 1.5*IQR\\n    - Upper bound: Q3 + 1.5*IQR\\n3. Identify data points outside these boundaries as potential outliers'"
            ],
            "application/vnd.google.colaboratory.intrinsic+json": {
              "type": "string"
            }
          },
          "metadata": {},
          "execution_count": 9
        }
      ]
    },
    {
      "cell_type": "code",
      "source": [
        "\"\"\"8. Discuss the conditions under which the binomial distribution is used.\n",
        "\n",
        "Ans. Binomial Distribution:\n",
        "\n",
        "The binomial distribution is a discrete probability distribution modeling the number of successes in a fixed number of independent trials, each with a constant probability of success.\n",
        "\n",
        "Conditions for Binomial Distribution:\n",
        "\n",
        "1. Fixed number of trials (n)\n",
        "2. Independent trials\n",
        "3. Constant probability of success (p) for each trial\n",
        "4. Constant probability of failure (q = 1 - p) for each trial\n",
        "5. Each trial has only two possible outcomes (success or failure)\n",
        "\n",
        "Key Characteristics:\n",
        "\n",
        "1. Discrete distribution\n",
        "2. Number of trials (n) is fixed\n",
        "3. Probability of success (p) is constant\n",
        "4. Trials are independent\"\"\"\n",
        "\n"
      ],
      "metadata": {
        "colab": {
          "base_uri": "https://localhost:8080/",
          "height": 87
        },
        "id": "9c3QhbgvBnZ_",
        "outputId": "94772d98-2154-4c91-8182-ef55e7892b61"
      },
      "execution_count": 10,
      "outputs": [
        {
          "output_type": "execute_result",
          "data": {
            "text/plain": [
              "'8. Discuss the conditions under which the binomial distribution is used.\\n\\nAns. Binomial Distribution:\\n\\nThe binomial distribution is a discrete probability distribution modeling the number of successes in a fixed number of independent trials, each with a constant probability of success.\\n\\nConditions for Binomial Distribution:\\n\\n1. Fixed number of trials (n)\\n2. Independent trials\\n3. Constant probability of success (p) for each trial\\n4. Constant probability of failure (q = 1 - p) for each trial\\n5. Each trial has only two possible outcomes (success or failure)\\n\\nKey Characteristics:\\n\\n1. Discrete distribution\\n2. Number of trials (n) is fixed\\n3. Probability of success (p) is constant\\n4. Trials are independent'"
            ],
            "application/vnd.google.colaboratory.intrinsic+json": {
              "type": "string"
            }
          },
          "metadata": {},
          "execution_count": 10
        }
      ]
    },
    {
      "cell_type": "code",
      "source": [
        "\"\"\"9. Explain the properties of the normal distribution and the empirical rule (68-95-99.7 rule).\n",
        "\n",
        "Ans. Normal Distribution:\n",
        "The normal distribution, also known as the Gaussian distribution or bell curve, is a continuous probability distribution characterized by:\n",
        "\n",
        "Properties:\n",
        "\n",
        "1. Symmetry: Bell-shaped curve\n",
        "2. Continuous: Can take any value within range\n",
        "3. Unimodal: Single peak\n",
        "4. Infinite tails: Approaches zero but never reaches\n",
        "\n",
        "Key Features:\n",
        "\n",
        "1. Mean (μ): Central tendency\n",
        "2. Standard Deviation (σ): Measure of spread\n",
        "3. Variance (σ²): Square of standard deviation\n",
        "\n",
        "Empirical Rule (68-95-99.7 Rule):\n",
        "\n",
        "Approximates the percentage of data points within:\n",
        "\n",
        "1. 1 standard deviation (σ) from mean: 68%\n",
        "2. 2 standard deviations (2σ) from mean: 95%\n",
        "3. 3 standard deviations (3σ) from mean: 99.7%\"\"\"\n",
        "\n"
      ],
      "metadata": {
        "colab": {
          "base_uri": "https://localhost:8080/",
          "height": 105
        },
        "id": "6H-YlwtsCR0A",
        "outputId": "befa4cb9-4b3a-4650-ec34-27e26e0a611e"
      },
      "execution_count": 11,
      "outputs": [
        {
          "output_type": "execute_result",
          "data": {
            "text/plain": [
              "'9. Explain the properties of the normal distribution and the empirical rule (68-95-99.7 rule).\\n\\nAns. Normal Distribution:\\nThe normal distribution, also known as the Gaussian distribution or bell curve, is a continuous probability distribution characterized by:\\n\\nProperties:\\n\\n1. Symmetry: Bell-shaped curve\\n2. Continuous: Can take any value within range\\n3. Unimodal: Single peak\\n4. Infinite tails: Approaches zero but never reaches\\n\\nKey Features:\\n\\n1. Mean (μ): Central tendency\\n2. Standard Deviation (σ): Measure of spread\\n3. Variance (σ²): Square of standard deviation\\n\\nEmpirical Rule (68-95-99.7 Rule):\\n\\nApproximates the percentage of data points within:\\n\\n1. 1 standard deviation (σ) from mean: 68%\\n2. 2 standard deviations (2σ) from mean: 95%\\n3. 3 standard deviations (3σ) from mean: 99.7%'"
            ],
            "application/vnd.google.colaboratory.intrinsic+json": {
              "type": "string"
            }
          },
          "metadata": {},
          "execution_count": 11
        }
      ]
    },
    {
      "cell_type": "code",
      "source": [
        "\"\"\"10. Provide a real-life example of a Poisson process and calculate the probability for a specific event.\n",
        "\n",
        "Ans. Real-Life Example:\n",
        "\n",
        "Poisson Process: Customer Arrivals at a Bank\n",
        "\n",
        "Suppose a bank receives an average of 15 customers per hour. We want to calculate the probability of:\n",
        "\n",
        "1. Exactly 20 customers arriving in the next hour\n",
        "2. At least 25 customers arriving in the next hour\n",
        "3. No more than 10 customers arriving in the next hour\n",
        "\n",
        "Poisson Distribution Parameters:\n",
        "\n",
        "λ (lambda) = average rate = 15 customers/hour\n",
        "t = time interval = 1 hour\n",
        "\n",
        "Poisson Distribution Formula:\n",
        "\n",
        "P(X = k) = (e^(-λt) * (λt)^k) / k!\"\"\"\n"
      ],
      "metadata": {
        "colab": {
          "base_uri": "https://localhost:8080/",
          "height": 87
        },
        "id": "ixK5YZuKDWVv",
        "outputId": "ef12c0ca-b48b-43c8-d195-3cd2b908f7ad"
      },
      "execution_count": 12,
      "outputs": [
        {
          "output_type": "execute_result",
          "data": {
            "text/plain": [
              "'10. Provide a real-life example of a Poisson process and calculate the probability for a specific event.\\n\\nAns. Real-Life Example:\\n\\nPoisson Process: Customer Arrivals at a Bank\\n\\nSuppose a bank receives an average of 15 customers per hour. We want to calculate the probability of:\\n\\n1. Exactly 20 customers arriving in the next hour\\n2. At least 25 customers arriving in the next hour\\n3. No more than 10 customers arriving in the next hour\\n\\nPoisson Distribution Parameters:\\n\\nλ (lambda) = average rate = 15 customers/hour\\nt = time interval = 1 hour\\n\\nPoisson Distribution Formula:\\n\\nP(X = k) = (e^(-λt) * (λt)^k) / k!'"
            ],
            "application/vnd.google.colaboratory.intrinsic+json": {
              "type": "string"
            }
          },
          "metadata": {},
          "execution_count": 12
        }
      ]
    },
    {
      "cell_type": "code",
      "source": [
        "\"\"\"11. Explain what a random variable is and differentiate between discrete and continuous random variables.\n",
        "\n",
        "Ans. Random Variable:\n",
        "\n",
        "A random variable is a mathematical representation of a variable whose possible values are determined by chance events.\n",
        "It assigns a numerical value to each outcome of an experiment.\n",
        "\n",
        "Types of Random Variables:\n",
        "\n",
        "1. Discrete Random Variable\n",
        "2. Continuous Random Variable\n",
        "\n",
        "Discrete Random Variable:\n",
        "\n",
        "- Takes on distinct, countable values\n",
        "- Has a finite or countably infinite number of possible values\n",
        "- Probability is calculated using probability mass function (PMF)\n",
        "\n",
        "Examples:\n",
        "- Coin toss (heads/tails)\n",
        "- Number of students in a class\n",
        "- Rolling a die (1-6)\n",
        "\n",
        "Continuous Random Variable:\n",
        "\n",
        "- Takes on any value within a given interval\n",
        "- Has an uncountably infinite number of possible values\n",
        "- Probability is calculated using probability density function (PDF)\n",
        "\n",
        "Examples:\n",
        "- Height of a person\n",
        "- Time taken to complete a task\n",
        "- Temperature reading\"\"\"\n"
      ],
      "metadata": {
        "colab": {
          "base_uri": "https://localhost:8080/",
          "height": 122
        },
        "id": "uyTLQYDfEQTn",
        "outputId": "d286c526-a634-444b-ad73-996d7d4e2505"
      },
      "execution_count": 13,
      "outputs": [
        {
          "output_type": "execute_result",
          "data": {
            "text/plain": [
              "'11. Explain what a random variable is and differentiate between discrete and continuous random variables.\\n\\nAns. Random Variable:\\n\\nA random variable is a mathematical representation of a variable whose possible values are determined by chance events. \\nIt assigns a numerical value to each outcome of an experiment.\\n\\nTypes of Random Variables:\\n\\n1. Discrete Random Variable\\n2. Continuous Random Variable\\n\\nDiscrete Random Variable:\\n\\n- Takes on distinct, countable values\\n- Has a finite or countably infinite number of possible values\\n- Probability is calculated using probability mass function (PMF)\\n\\nExamples:\\n- Coin toss (heads/tails)\\n- Number of students in a class\\n- Rolling a die (1-6)\\n\\nContinuous Random Variable:\\n\\n- Takes on any value within a given interval\\n- Has an uncountably infinite number of possible values\\n- Probability is calculated using probability density function (PDF)\\n\\nExamples:\\n- Height of a person\\n- Time taken to complete a task\\n- Temperature reading'"
            ],
            "application/vnd.google.colaboratory.intrinsic+json": {
              "type": "string"
            }
          },
          "metadata": {},
          "execution_count": 13
        }
      ]
    },
    {
      "cell_type": "code",
      "source": [
        "\"\"\"12. Provide an example dataset, calculate both covariance and correlation, and interpret the results.\n",
        "\n",
        "Ans.  Example Dataset:\n",
        "\n",
        "Suppose we have a dataset of exam scores and hours studied for 6 students:\n",
        "\n",
        "| Student | Exam Score (X) | Hours Studied (Y) |\n",
        "| --- | --- | --- |\n",
        "| 1    | 80          | 5           |\n",
        "| 2    | 70          | 4           |\n",
        "| 3    | 90          | 6           |\n",
        "| 4    | 85          | 5.5         |\n",
        "| 5    | 75          | 4.5         |\n",
        "| 6    | 95          | 7           |\n",
        "\n",
        "\n",
        "Covariance Calculation:\n",
        "\n",
        "Cov(X, Y) = Σ[(xi - μx)(yi - μy)] / (n - 1)\n",
        "\n",
        "where:\n",
        "- xi = individual exam scores\n",
        "- yi = individual hours studied\n",
        "- μx = mean exam score\n",
        "- μy = mean hours studied\n",
        "- n = sample size\n",
        "\n",
        "Mean exam score (μx) = 83.33\n",
        "Mean hours studied (μy) = 5.42\n",
        "\n",
        "Covariance:\n",
        "\n",
        "Cov(X, Y) = [(80-83.33)(5-5.42) + ... + (95-83.33)(7-5.42)] / 5\n",
        "= 2.42\n",
        "\n",
        "Correlation Calculation:\n",
        "\n",
        "Pearson Correlation Coefficient (r)\n",
        "\n",
        "r = Cov(X, Y) / (σx * σy)\n",
        "\n",
        "where:\n",
        "\n",
        "- σx = standard deviation of exam scores\n",
        "- σy = standard deviation of hours studied\n",
        "\n",
        "Standard Deviation:\n",
        "\n",
        "σx = 6.51\n",
        "σy = 1.17\n",
        "\n",
        "Correlation:\n",
        "\n",
        "r = 2.42 / (6.51 * 1.17)\n",
        "= 0.83\n",
        "\n",
        "Interpretation:\n",
        "\n",
        "- Positive covariance (2.42) indicates a linear relationship between exam scores and hours studied.\n",
        "- Strong positive correlation (r = 0.83) confirms this relationship.\n",
        "\n",
        "Results suggest:\n",
        "- As hours studied increase, exam scores tend to increase.\n",
        "- For every additional hour studied, exam scores increase by approximately 2.42 points.\"\"\"\n"
      ],
      "metadata": {
        "id": "-fgUa-6hFhIx"
      },
      "execution_count": null,
      "outputs": []
    }
  ]
}